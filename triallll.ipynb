{
 "cells": [
  {
   "cell_type": "markdown",
   "metadata": {},
   "source": [
    "### Importing required libraries"
   ]
  },
  {
   "cell_type": "code",
   "execution_count": null,
   "metadata": {},
   "outputs": [],
   "source": [
    "import numpy as np # type: ignore\n",
    "import pypolar.mueller as mueller # type: ignore\n",
    "np.set_printoptions(suppress=True)  # print 1e-16 as zero\n",
    "from sympy import Matrix, symbols, Eq, solve # type: ignore"
   ]
  },
  {
   "cell_type": "markdown",
   "metadata": {},
   "source": [
    "### Set of Linear Polarizers for Mueller matrix Polarimeter"
   ]
  },
  {
   "cell_type": "code",
   "execution_count": 136,
   "metadata": {},
   "outputs": [
    {
     "name": "stdout",
     "output_type": "stream",
     "text": [
      "Mueller matrix for L1:\n",
      "[[ 0.5  0.  -0.5  0. ]\n",
      " [ 0.   0.  -0.   0. ]\n",
      " [-0.5 -0.   0.5  0. ]\n",
      " [ 0.   0.   0.   0. ]]\n",
      "Mueller matrix for L2:\n",
      "[[0.5 0.5 0.  0. ]\n",
      " [0.5 0.5 0.  0. ]\n",
      " [0.  0.  0.  0. ]\n",
      " [0.  0.  0.  0. ]]\n",
      "Mueller matrix for L3:\n",
      "[[0.5 0.  0.5 0. ]\n",
      " [0.  0.  0.  0. ]\n",
      " [0.5 0.  0.5 0. ]\n",
      " [0.  0.  0.  0. ]]\n",
      "Mueller matrix for L4:\n",
      "[[ 0.5 -0.5  0.   0. ]\n",
      " [-0.5  0.5 -0.   0. ]\n",
      " [ 0.  -0.   0.   0. ]\n",
      " [ 0.   0.   0.   0. ]]\n"
     ]
    }
   ],
   "source": [
    "L1 = mueller.op_linear_polarizer(np.radians(-45))\n",
    "L2 = mueller.op_linear_polarizer(np.radians(0))\n",
    "L3 = mueller.op_linear_polarizer(np.radians(45))\n",
    "L4 = mueller.op_linear_polarizer(np.radians(90))\n",
    "\n",
    "print(\"Mueller matrix for L1:\")\n",
    "print(L1)\n",
    "print(\"Mueller matrix for L2:\")\n",
    "print(L2)\n",
    "print(\"Mueller matrix for L3:\")\n",
    "print(L3)\n",
    "print(\"Mueller matrix for L4:\")\n",
    "print(L4)"
   ]
  },
  {
   "cell_type": "markdown",
   "metadata": {},
   "source": [
    "### Set of Quarter Wave Plates for Mueller matrix polarimeter"
   ]
  },
  {
   "cell_type": "code",
   "execution_count": 135,
   "metadata": {},
   "outputs": [
    {
     "name": "stdout",
     "output_type": "stream",
     "text": [
      "Mueller matrix for Q1:\n",
      "[[ 1.  0.  0.  0.]\n",
      " [ 0.  0. -0.  1.]\n",
      " [ 0. -0.  1.  0.]\n",
      " [ 0. -1. -0.  0.]]\n",
      "Mueller matrix for Q2:\n",
      "[[ 1.  0.  0.  0.]\n",
      " [ 0.  1.  0. -0.]\n",
      " [ 0.  0.  0.  1.]\n",
      " [ 0.  0. -1.  0.]]\n",
      "Mueller matrix for Q3:\n",
      "[[ 1.  0.  0.  0.]\n",
      " [ 0.  0.  0. -1.]\n",
      " [ 0.  0.  1.  0.]\n",
      " [ 0.  1. -0.  0.]]\n",
      "Mueller matrix for Q4:\n",
      "[[ 1.  0.  0.  0.]\n",
      " [ 0.  1. -0. -0.]\n",
      " [ 0. -0.  0. -1.]\n",
      " [ 0.  0.  1.  0.]]\n"
     ]
    }
   ],
   "source": [
    "Q1 = mueller.op_quarter_wave_plate(np.radians(-45))\n",
    "Q2 = mueller.op_quarter_wave_plate(np.radians(0))\n",
    "Q3 = mueller.op_quarter_wave_plate(np.radians(45))\n",
    "Q4 = mueller.op_quarter_wave_plate(np.radians(90))\n",
    "\n",
    "print(\"Mueller matrix for Q1:\")\n",
    "print(Q1)\n",
    "print(\"Mueller matrix for Q2:\")\n",
    "print(Q2)\n",
    "print(\"Mueller matrix for Q3:\")\n",
    "print(Q3)\n",
    "print(\"Mueller matrix for Q4:\")\n",
    "print(Q4)\n"
   ]
  },
  {
   "cell_type": "markdown",
   "metadata": {},
   "source": [
    "### Given Known Sample Mueller Matrix"
   ]
  },
  {
   "cell_type": "code",
   "execution_count": 137,
   "metadata": {},
   "outputs": [
    {
     "name": "stdout",
     "output_type": "stream",
     "text": [
      "Mueller matrix for Known Sample:\n",
      "[[ 1.  0.  0.  0.]\n",
      " [ 0. -1.  0.  0.]\n",
      " [ 0.  0.  1.  0.]\n",
      " [ 0.  0.  0. -1.]]\n"
     ]
    }
   ],
   "source": [
    "C = mueller.op_half_wave_plate(np.radians(45))\n",
    "print(\"Mueller matrix for Known Sample:\")\n",
    "print(C)"
   ]
  },
  {
   "cell_type": "markdown",
   "metadata": {},
   "source": [
    "### Combination of the Polarizer and Analyzer with Known Sample"
   ]
  },
  {
   "cell_type": "code",
   "execution_count": null,
   "metadata": {},
   "outputs": [
    {
     "name": "stdout",
     "output_type": "stream",
     "text": [
      "Mueller matrix for ML:\n",
      "[[ 0.25  0.   -0.25  0.  ]\n",
      " [ 0.    0.   -0.    0.  ]\n",
      " [ 0.25  0.   -0.25  0.  ]\n",
      " [ 0.    0.    0.    0.  ]]\n",
      "Mueller matrix for MR:\n",
      "[[ 0.25  0.   -0.25  0.  ]\n",
      " [ 0.    0.   -0.    0.  ]\n",
      " [-0.25 -0.    0.25  0.  ]\n",
      " [ 0.    0.    0.    0.  ]]\n",
      "Mueller matrix for MM:\n",
      "[[ 0.5  0.  -0.5  0. ]\n",
      " [ 0.   0.  -0.   0. ]\n",
      " [-0.5 -0.   0.5  0. ]\n",
      " [ 0.   0.   0.   0. ]]\n",
      "Mueller matrix for MP:\n",
      "[[ 0.  0.  0.  0.]\n",
      " [ 0. -0.  0.  0.]\n",
      " [ 0.  0.  0.  0.]\n",
      " [ 0.  0.  0.  0.]]\n",
      "Mueller matrix for MH:\n",
      "[[ 0.25  0.   -0.25  0.  ]\n",
      " [ 0.25  0.   -0.25  0.  ]\n",
      " [ 0.    0.    0.    0.  ]\n",
      " [ 0.    0.    0.    0.  ]]\n",
      "Mueller matrix for MV:\n",
      "[[ 0.25  0.   -0.25  0.  ]\n",
      " [-0.25 -0.    0.25  0.  ]\n",
      " [ 0.    0.   -0.    0.  ]\n",
      " [ 0.    0.    0.    0.  ]]\n"
     ]
    }
   ],
   "source": [
    "ML = L3@Q2@C@Q1@L1\n",
    "print(\"Mueller matrix for ML:\")\n",
    "print(ML)\n",
    "\n",
    "MR = L1@Q2@C@Q1@L1\n",
    "print(\"Mueller matrix for MR:\")\n",
    "print(MR)\n",
    "\n",
    "MM = L1@Q3@C@Q1@L1\n",
    "print(\"Mueller matrix for MM:\")\n",
    "print(MM)\n",
    "\n",
    "MP = L3@Q1@C@Q1@L1\n",
    "print(\"Mueller matrix for MP:\")\n",
    "print(MP)\n",
    "\n",
    "MH = L2@Q4@C@Q1@L1\n",
    "print(\"Mueller matrix for MH:\")\n",
    "print(MH)\n",
    "\n",
    "MV = L4@Q4@C@Q1@L1\n",
    "print(\"Mueller matrix for MV:\")\n",
    "print(MV)\n",
    "\n"
   ]
  },
  {
   "cell_type": "code",
   "execution_count": 140,
   "metadata": {},
   "outputs": [
    {
     "name": "stdout",
     "output_type": "stream",
     "text": [
      "Mueller matrix for RL:\n",
      "[[ 0.5  0.  -0.5  0. ]\n",
      " [ 0.   0.  -0.   0. ]\n",
      " [ 0.5  0.  -0.5  0. ]\n",
      " [ 0.   0.   0.   0. ]]\n",
      "Mueller matrix for RR:\n",
      "[[ 0.  0.  0.  0.]\n",
      " [ 0. -0.  0.  0.]\n",
      " [ 0.  0.  0.  0.]\n",
      " [ 0.  0.  0.  0.]]\n",
      "Mueller matrix for RM:\n",
      "[[ 0.25  0.   -0.25  0.  ]\n",
      " [ 0.    0.   -0.    0.  ]\n",
      " [-0.25 -0.    0.25  0.  ]\n",
      " [ 0.    0.    0.    0.  ]]\n",
      "Mueller matrix for RP:\n",
      "[[ 0.25  0.   -0.25  0.  ]\n",
      " [ 0.    0.   -0.    0.  ]\n",
      " [ 0.25  0.   -0.25  0.  ]\n",
      " [ 0.    0.    0.    0.  ]]\n",
      "Mueller matrix for RH:\n",
      "[[ 0.25  0.   -0.25  0.  ]\n",
      " [ 0.25  0.   -0.25  0.  ]\n",
      " [ 0.    0.    0.    0.  ]\n",
      " [ 0.    0.    0.    0.  ]]\n",
      "Mueller matrix for RV:\n",
      "[[ 0.25  0.   -0.25  0.  ]\n",
      " [-0.25 -0.    0.25  0.  ]\n",
      " [ 0.    0.   -0.    0.  ]\n",
      " [ 0.    0.    0.    0.  ]]\n"
     ]
    }
   ],
   "source": [
    "RL = L3@Q2@C@Q4@L1\n",
    "print(\"Mueller matrix for RL:\")\n",
    "print(RL)\n",
    "\n",
    "RR = L1@Q2@C@Q4@L1\n",
    "print(\"Mueller matrix for RR:\")\n",
    "print(RR)\n",
    "\n",
    "RM = L1@Q3@C@Q4@L1\n",
    "print(\"Mueller matrix for RM:\")\n",
    "print(RM)\n",
    "\n",
    "RP = L3@Q1@C@Q4@L1\n",
    "print(\"Mueller matrix for RP:\")\n",
    "print(RP)\n",
    "\n",
    "RH = L2@Q4@C@Q4@L1\n",
    "print(\"Mueller matrix for RH:\")\n",
    "print(RH)\n",
    "\n",
    "RV = L4@Q4@C@Q4@L1\n",
    "print(\"Mueller matrix for RV:\")\n",
    "print(RV)"
   ]
  },
  {
   "cell_type": "code",
   "execution_count": 141,
   "metadata": {},
   "outputs": [
    {
     "name": "stdout",
     "output_type": "stream",
     "text": [
      "Mueller matrix for HL:\n",
      "[[0.25 0.25 0.   0.  ]\n",
      " [0.   0.   0.   0.  ]\n",
      " [0.25 0.25 0.   0.  ]\n",
      " [0.   0.   0.   0.  ]]\n",
      "Mueller matrix for HR:\n",
      "[[ 0.25  0.25  0.    0.  ]\n",
      " [ 0.    0.    0.    0.  ]\n",
      " [-0.25 -0.25  0.    0.  ]\n",
      " [ 0.    0.    0.    0.  ]]\n",
      "Mueller matrix for HM:\n",
      "[[ 0.25  0.25  0.    0.  ]\n",
      " [ 0.    0.    0.    0.  ]\n",
      " [-0.25 -0.25  0.    0.  ]\n",
      " [ 0.    0.    0.    0.  ]]\n",
      "Mueller matrix for HP:\n",
      "[[0.25 0.25 0.   0.  ]\n",
      " [0.   0.   0.   0.  ]\n",
      " [0.25 0.25 0.   0.  ]\n",
      " [0.   0.   0.   0.  ]]\n",
      "Mueller matrix for HH:\n",
      "[[0. 0. 0. 0.]\n",
      " [0. 0. 0. 0.]\n",
      " [0. 0. 0. 0.]\n",
      " [0. 0. 0. 0.]]\n",
      "Mueller matrix for HV:\n",
      "[[ 0.5  0.5  0.   0. ]\n",
      " [-0.5 -0.5  0.   0. ]\n",
      " [ 0.   0.   0.   0. ]\n",
      " [ 0.   0.   0.   0. ]]\n"
     ]
    }
   ],
   "source": [
    "HL = L3@Q2@C@Q2@L2\n",
    "print(\"Mueller matrix for HL:\")\n",
    "print(HL)\n",
    "\n",
    "HR = L1@Q2@C@Q2@L2\n",
    "print(\"Mueller matrix for HR:\")\n",
    "print(HR)\n",
    "\n",
    "HM = L1@Q3@C@Q2@L2\n",
    "print(\"Mueller matrix for HM:\")\n",
    "print(HM)\n",
    "\n",
    "HP = L3@Q1@C@Q2@L2\n",
    "print(\"Mueller matrix for HP:\")\n",
    "print(HP)\n",
    "\n",
    "HH = L2@Q4@C@Q2@L2\n",
    "print(\"Mueller matrix for HH:\")\n",
    "print(HH)\n",
    "\n",
    "HV = L4@Q4@C@Q2@L2\n",
    "print(\"Mueller matrix for HV:\")\n",
    "print(HV)\n"
   ]
  },
  {
   "cell_type": "code",
   "execution_count": 142,
   "metadata": {},
   "outputs": [
    {
     "name": "stdout",
     "output_type": "stream",
     "text": [
      "Mueller matrix for PL:\n",
      "[[0.25 0.   0.25 0.  ]\n",
      " [0.   0.   0.   0.  ]\n",
      " [0.25 0.   0.25 0.  ]\n",
      " [0.   0.   0.   0.  ]]\n",
      "Mueller matrix for PR:\n",
      "[[ 0.25  0.    0.25  0.  ]\n",
      " [ 0.    0.    0.    0.  ]\n",
      " [-0.25 -0.   -0.25  0.  ]\n",
      " [ 0.    0.    0.    0.  ]]\n",
      "Mueller matrix for PM:\n",
      "[[ 0.  0.  0.  0.]\n",
      " [ 0. -0.  0.  0.]\n",
      " [ 0.  0.  0.  0.]\n",
      " [ 0.  0.  0.  0.]]\n",
      "Mueller matrix for PP:\n",
      "[[0.5 0.  0.5 0. ]\n",
      " [0.  0.  0.  0. ]\n",
      " [0.5 0.  0.5 0. ]\n",
      " [0.  0.  0.  0. ]]\n",
      "Mueller matrix for PH:\n",
      "[[0.25 0.   0.25 0.  ]\n",
      " [0.25 0.   0.25 0.  ]\n",
      " [0.   0.   0.   0.  ]\n",
      " [0.   0.   0.   0.  ]]\n",
      "Mueller matrix for PV:\n",
      "[[ 0.25  0.    0.25  0.  ]\n",
      " [-0.25 -0.   -0.25  0.  ]\n",
      " [ 0.    0.    0.    0.  ]\n",
      " [ 0.    0.    0.    0.  ]]\n"
     ]
    }
   ],
   "source": [
    "PL = L3@Q2@C@Q3@L3\n",
    "print(\"Mueller matrix for PL:\")\n",
    "print(PL)\n",
    "\n",
    "PR = L1@Q2@C@Q3@L3\n",
    "print(\"Mueller matrix for PR:\")\n",
    "print(PR)\n",
    "\n",
    "PM = L1@Q3@C@Q3@L3\n",
    "print(\"Mueller matrix for PM:\")\n",
    "print(PM)\n",
    "\n",
    "PP = L3@Q1@C@Q3@L3\n",
    "print(\"Mueller matrix for PP:\")\n",
    "print(PP)\n",
    "\n",
    "PH = L2@Q4@C@Q3@L3\n",
    "print(\"Mueller matrix for PH:\")\n",
    "print(PH)\n",
    "\n",
    "PV = L4@Q4@C@Q3@L3\n",
    "print(\"Mueller matrix for PV:\")\n",
    "print(PV)"
   ]
  },
  {
   "cell_type": "code",
   "execution_count": null,
   "metadata": {},
   "outputs": [],
   "source": [
    "LL = L3@Q2@C@Q4@L3\n",
    "print(\"Mueller matrix for LL:\")\n",
    "print(LL)\n",
    "\n",
    "LR = L1@Q2@C@Q4@L3\n",
    "print(\"Mueller matrix for LR:\")\n",
    "print(LR)\n",
    "\n",
    "LM = L1@Q3@C@Q4@L3\n",
    "print(\"Mueller matrix for LM:\")\n",
    "print(LM)\n",
    "\n",
    "LP = L3@Q1@C@Q4@L3\n",
    "print(\"Mueller matrix for LP:\")\n",
    "print(LP)\n",
    "\n",
    "LH = L2@Q4@C@Q4@L3\n",
    "print(\"Mueller matrix for LH:\")\n",
    "print(LH)\n",
    "\n",
    "LV = L4@Q4@C@Q4@L3\n",
    "print(\"Mueller matrix for LV:\")\n",
    "print(LV)"
   ]
  },
  {
   "cell_type": "code",
   "execution_count": 143,
   "metadata": {},
   "outputs": [
    {
     "name": "stdout",
     "output_type": "stream",
     "text": [
      "Mueller matrix for VL:\n",
      "[[ 0.25 -0.25  0.    0.  ]\n",
      " [ 0.   -0.    0.    0.  ]\n",
      " [ 0.25 -0.25  0.    0.  ]\n",
      " [ 0.    0.    0.    0.  ]]\n",
      "Mueller matrix for VR:\n",
      "[[ 0.25 -0.25  0.    0.  ]\n",
      " [ 0.   -0.    0.    0.  ]\n",
      " [-0.25  0.25 -0.    0.  ]\n",
      " [ 0.    0.    0.    0.  ]]\n",
      "Mueller matrix for VM:\n",
      "[[ 0.25 -0.25  0.    0.  ]\n",
      " [ 0.   -0.    0.    0.  ]\n",
      " [-0.25  0.25 -0.    0.  ]\n",
      " [ 0.    0.    0.    0.  ]]\n",
      "Mueller matrix for VP:\n",
      "[[ 0.25 -0.25  0.    0.  ]\n",
      " [-0.25  0.25 -0.    0.  ]\n",
      " [ 0.   -0.    0.    0.  ]\n",
      " [ 0.    0.    0.    0.  ]]\n",
      "Mueller matrix for VH:\n",
      "[[ 0.5 -0.5  0.   0. ]\n",
      " [ 0.5 -0.5  0.   0. ]\n",
      " [ 0.   0.   0.   0. ]\n",
      " [ 0.   0.   0.   0. ]]\n",
      "Mueller matrix for VV:\n",
      "[[-0.  0. -0.  0.]\n",
      " [ 0. -0.  0.  0.]\n",
      " [-0.  0. -0.  0.]\n",
      " [ 0.  0.  0.  0.]]\n"
     ]
    }
   ],
   "source": [
    "VL = L3@Q2@C@Q4@L4\n",
    "print(\"Mueller matrix for VL:\")\n",
    "print(VL)\n",
    "\n",
    "VR = L1@Q2@C@Q4@L4\n",
    "print(\"Mueller matrix for VR:\")\n",
    "print(VR)\n",
    "\n",
    "VM = L1@Q3@C@Q4@L4\n",
    "print(\"Mueller matrix for VM:\")\n",
    "print(VM)\n",
    "\n",
    "VP = L4@Q1@C@Q4@L4\n",
    "print(\"Mueller matrix for VP:\")\n",
    "print(VP)\n",
    "\n",
    "VH = L2@Q4@C@Q4@L4\n",
    "print(\"Mueller matrix for VH:\")\n",
    "print(VH)\n",
    "\n",
    "VV = L4@Q4@C@Q4@L4\n",
    "print(\"Mueller matrix for VV:\")\n",
    "print(VV)"
   ]
  },
  {
   "cell_type": "markdown",
   "metadata": {},
   "source": [
    "### Set of Incidence Stokes Vectors"
   ]
  },
  {
   "cell_type": "code",
   "execution_count": 145,
   "metadata": {},
   "outputs": [
    {
     "name": "stdout",
     "output_type": "stream",
     "text": [
      "Stokes vector for S_Ih:\n",
      "[1 1 0 0]\n",
      "Stokes vector for S_Iv:\n",
      "[ 1 -1  0  0]\n",
      "Stokes vector for S_Ip:\n",
      "[1 0 1 0]\n",
      "Stokes vector for S_Im:\n",
      "[ 1  0 -1  0]\n",
      "Stokes vector for S_Ir:\n",
      "[1 0 0 1]\n",
      "Stokes vector for S_Il:\n",
      "[ 1  0  0 -1]\n"
     ]
    }
   ],
   "source": [
    "S_Ih = np.array([1,1,0,0])   # Horizonatal Stokes\n",
    "print(\"Stokes vector for S_Ih:\")\n",
    "print(S_Ih)\n",
    "S_Iv = np.array([1,-1,0,0])  # Vertical Stokes\n",
    "print(\"Stokes vector for S_Iv:\")\n",
    "print(S_Iv)\n",
    "S_Ip = np.array([1,0,1,0])   # Diagonal Stokes\n",
    "print(\"Stokes vector for S_Ip:\")\n",
    "print(S_Ip)\n",
    "S_Im = np.array([1,0,-1,0])  # Anti Diagonal Stokes\n",
    "print(\"Stokes vector for S_Im:\")\n",
    "print(S_Im)\n",
    "S_Ir = np.array([1,0,0,1])   # RCP\n",
    "print(\"Stokes vector for S_Ir:\")\n",
    "print(S_Ir)\n",
    "S_Il = np.array([1,0,0,-1])  # LCP\n",
    "print(\"Stokes vector for S_Il:\")\n",
    "print(S_Il)"
   ]
  },
  {
   "cell_type": "markdown",
   "metadata": {},
   "source": [
    "# Incident Stoke's vector"
   ]
  },
  {
   "cell_type": "code",
   "execution_count": 149,
   "metadata": {},
   "outputs": [],
   "source": [
    "S_i = S_Ir"
   ]
  },
  {
   "cell_type": "markdown",
   "metadata": {},
   "source": [
    "### Output Stokes vectors for generator generating M"
   ]
  },
  {
   "cell_type": "code",
   "execution_count": 150,
   "metadata": {},
   "outputs": [
    {
     "name": "stdout",
     "output_type": "stream",
     "text": [
      "Output_stokes_vector for the S_ML:\n",
      "[0.25 0.   0.25 0.  ]\n",
      "Output_stokes_vector for the S_MR:\n",
      "[0.25 0.   0.25 0.  ]\n",
      "Output_stokes_vector for the S_MM:\n",
      "[ 0.5  0.  -0.5  0. ]\n",
      "Output_stokes_vector for the S_MP:\n",
      "[0. 0. 0. 0.]\n",
      "Output_stokes_vector for the S_MH:\n",
      "[0.25 0.25 0.   0.  ]\n",
      "Output_stokes_vector for the S_MV:\n",
      "[ 0.25 -0.25  0.    0.  ]\n"
     ]
    }
   ],
   "source": [
    "S_ML = np.dot(ML,S_i)\n",
    "print(\"Output_stokes_vector for the S_ML:\")\n",
    "print(S_ML)\n",
    "\n",
    "S_MR = np.dot(MR,S_i)\n",
    "print(\"Output_stokes_vector for the S_MR:\")\n",
    "print(S_ML)\n",
    "\n",
    "S_MM = np.dot(MM,S_i)\n",
    "print(\"Output_stokes_vector for the S_MM:\")\n",
    "print(S_MM)\n",
    "\n",
    "S_MP = np.dot(MP,S_i)\n",
    "print(\"Output_stokes_vector for the S_MP:\")\n",
    "print(S_MP)\n",
    "\n",
    "S_MH = np.dot(MH,S_i)\n",
    "print(\"Output_stokes_vector for the S_MH:\")\n",
    "print(S_MH)\n",
    "\n",
    "S_MV = np.dot(MV,S_i)\n",
    "print(\"Output_stokes_vector for the S_MV:\")\n",
    "print(S_MV)"
   ]
  },
  {
   "cell_type": "markdown",
   "metadata": {},
   "source": [
    "### Output Stokes vectors for generator generating R"
   ]
  },
  {
   "cell_type": "code",
   "execution_count": 148,
   "metadata": {},
   "outputs": [
    {
     "name": "stdout",
     "output_type": "stream",
     "text": [
      "Output_stokes_vector for the S_RL:\n",
      "[0.5 0.  0.5 0. ]\n",
      "Output_stokes_vector for the S_RR:\n",
      "[0. 0. 0. 0.]\n",
      "Output_stokes_vector for the S_RM:\n",
      "[ 0.25  0.   -0.25  0.  ]\n",
      "Output_stokes_vector for the S_RP:\n",
      "[0.25 0.   0.25 0.  ]\n",
      "Output_stokes_vector for the S_RH:\n",
      "[0.25 0.25 0.   0.  ]\n",
      "Output_stokes_vector for the S_RV:\n",
      "[ 0.25 -0.25  0.    0.  ]\n"
     ]
    }
   ],
   "source": [
    "S_RL = np.dot(RL,S_i)\n",
    "print(\"Output_stokes_vector for the S_RL:\")\n",
    "print(S_RL)\n",
    "\n",
    "S_RR = np.dot(RR,S_i)\n",
    "print(\"Output_stokes_vector for the S_RR:\")\n",
    "print(S_RR)\n",
    "\n",
    "S_RM = np.dot(RM,S_i)\n",
    "print(\"Output_stokes_vector for the S_RM:\")\n",
    "print(S_RM)\n",
    "\n",
    "S_RP = np.dot(RP,S_i)\n",
    "print(\"Output_stokes_vector for the S_RP:\")\n",
    "print(S_RP)\n",
    "\n",
    "S_RH = np.dot(RH,S_i)\n",
    "print(\"Output_stokes_vector for the S_RH:\")\n",
    "print(S_RH)\n",
    "\n",
    "S_RV = np.dot(RV,S_i)\n",
    "print(\"Output_stokes_vector for the S_RV:\")\n",
    "print(S_RV)"
   ]
  },
  {
   "cell_type": "markdown",
   "metadata": {},
   "source": [
    "### Output Stokes vectors for generator generating H"
   ]
  },
  {
   "cell_type": "code",
   "execution_count": 151,
   "metadata": {},
   "outputs": [
    {
     "name": "stdout",
     "output_type": "stream",
     "text": [
      "Output_stokes_vector for the S_HL:\n",
      "[0.25 0.   0.25 0.  ]\n",
      "Output_stokes_vector for the S_HR:\n",
      "[ 0.25  0.   -0.25  0.  ]\n",
      "Output_stokes_vector for the S_HM:\n",
      "[ 0.25  0.   -0.25  0.  ]\n",
      "Output_stokes_vector for the S_HP:\n",
      "[0.25 0.   0.25 0.  ]\n",
      "Output_stokes_vector for the S_HH:\n",
      "[0. 0. 0. 0.]\n",
      "Output_stokes_vector for the S_HV:\n",
      "[ 0.5 -0.5  0.   0. ]\n"
     ]
    }
   ],
   "source": [
    "S_HL = np.dot(HL,S_i)\n",
    "print(\"Output_stokes_vector for the S_HL:\")\n",
    "print(S_HL)\n",
    "\n",
    "S_HR = np.dot(HR,S_i)\n",
    "print(\"Output_stokes_vector for the S_HR:\")\n",
    "print(S_HR)\n",
    "\n",
    "S_HM = np.dot(HM,S_i)\n",
    "print(\"Output_stokes_vector for the S_HM:\")\n",
    "print(S_HM)\n",
    "\n",
    "S_HP = np.dot(HP,S_i)\n",
    "print(\"Output_stokes_vector for the S_HP:\")\n",
    "print(S_HP)\n",
    "\n",
    "S_HH = np.dot(HH,S_i)\n",
    "print(\"Output_stokes_vector for the S_HH:\")\n",
    "print(S_HH)\n",
    "\n",
    "S_HV = np.dot(HV,S_i)\n",
    "print(\"Output_stokes_vector for the S_HV:\")\n",
    "print(S_HV)"
   ]
  },
  {
   "cell_type": "markdown",
   "metadata": {},
   "source": [
    "### Output Stokes vectors for generator generating P"
   ]
  },
  {
   "cell_type": "code",
   "execution_count": 152,
   "metadata": {},
   "outputs": [
    {
     "name": "stdout",
     "output_type": "stream",
     "text": [
      "Output_stokes_vector for the S_PL:\n",
      "[0.25 0.   0.25 0.  ]\n",
      "Output_stokes_vector for the S_PR:\n",
      "[ 0.25  0.   -0.25  0.  ]\n",
      "Output_stokes_vector for the S_PM:\n",
      "[0. 0. 0. 0.]\n",
      "Output_stokes_vector for the S_PP:\n",
      "[0.5 0.  0.5 0. ]\n",
      "Output_stokes_vector for the S_PH:\n",
      "[0.25 0.25 0.   0.  ]\n",
      "Output_stokes_vector for the S_PV:\n",
      "[ 0.25 -0.25  0.    0.  ]\n"
     ]
    }
   ],
   "source": [
    "S_PL = np.dot(PL,S_i)\n",
    "print(\"Output_stokes_vector for the S_PL:\")\n",
    "print(S_PL)\n",
    "\n",
    "S_PR = np.dot(PR,S_i)\n",
    "print(\"Output_stokes_vector for the S_PR:\")\n",
    "print(S_PR)\n",
    "\n",
    "S_PM = np.dot(PM,S_i)\n",
    "print(\"Output_stokes_vector for the S_PM:\")\n",
    "print(S_PM)\n",
    "\n",
    "S_PP = np.dot(PP,S_i)\n",
    "print(\"Output_stokes_vector for the S_PP:\")\n",
    "print(S_PP)\n",
    "\n",
    "S_PH = np.dot(PH,S_i)\n",
    "print(\"Output_stokes_vector for the S_PH:\")\n",
    "print(S_PH)\n",
    "\n",
    "S_PV = np.dot(PV,S_i)\n",
    "print(\"Output_stokes_vector for the S_PV:\")\n",
    "print(S_PV)"
   ]
  },
  {
   "cell_type": "markdown",
   "metadata": {},
   "source": [
    "### Output Stokes vectors for generator generating L"
   ]
  },
  {
   "cell_type": "code",
   "execution_count": 153,
   "metadata": {},
   "outputs": [
    {
     "name": "stdout",
     "output_type": "stream",
     "text": [
      "Output_stokes_vector for the S_LL:\n",
      "[0. 0. 0. 0.]\n",
      "Output_stokes_vector for the S_LR:\n",
      "[ 0.5  0.  -0.5  0. ]\n",
      "Output_stokes_vector for the S_LM:\n",
      "[ 0.25  0.   -0.25  0.  ]\n",
      "Output_stokes_vector for the S_LP:\n",
      "[0.25 0.   0.25 0.  ]\n",
      "Output_stokes_vector for the S_LH:\n",
      "[0.25 0.25 0.   0.  ]\n",
      "Output_stokes_vector for the S_LV:\n",
      "[ 0.25 -0.25  0.    0.  ]\n"
     ]
    }
   ],
   "source": [
    "S_LL = np.dot(LL,S_i)\n",
    "print(\"Output_stokes_vector for the S_LL:\")\n",
    "print(S_LL)\n",
    "\n",
    "S_LR = np.dot(LR,S_i)\n",
    "print(\"Output_stokes_vector for the S_LR:\")\n",
    "print(S_LR)\n",
    "\n",
    "S_LM = np.dot(LM,S_i)\n",
    "print(\"Output_stokes_vector for the S_LM:\")\n",
    "print(S_LM)\n",
    "\n",
    "S_LP = np.dot(LP,S_i)\n",
    "print(\"Output_stokes_vector for the S_LP:\")\n",
    "print(S_LP)\n",
    "\n",
    "S_LH = np.dot(LH,S_i)\n",
    "print(\"Output_stokes_vector for the S_LH:\")\n",
    "print(S_LH)\n",
    "\n",
    "S_LV = np.dot(LV,S_i)\n",
    "print(\"Output_stokes_vector for the S_LV:\")\n",
    "print(S_LV)"
   ]
  },
  {
   "cell_type": "markdown",
   "metadata": {},
   "source": [
    "### Output Stokes vectors for generator generating V"
   ]
  },
  {
   "cell_type": "code",
   "execution_count": 154,
   "metadata": {},
   "outputs": [
    {
     "name": "stdout",
     "output_type": "stream",
     "text": [
      "Output_stokes_vector for the S_VL:\n",
      "[0.25 0.   0.25 0.  ]\n",
      "Output_stokes_vector for the S_VR:\n",
      "[ 0.25  0.   -0.25  0.  ]\n",
      "Output_stokes_vector for the S_VM:\n",
      "[ 0.25  0.   -0.25  0.  ]\n",
      "Output_stokes_vector for the S_VP:\n",
      "[ 0.25 -0.25  0.    0.  ]\n",
      "Output_stokes_vector for the S_VH:\n",
      "[0.5 0.5 0.  0. ]\n",
      "Output_stokes_vector for the S_VV:\n",
      "[-0.  0. -0.  0.]\n"
     ]
    }
   ],
   "source": [
    "S_VL = np.dot(VL,S_i)\n",
    "print(\"Output_stokes_vector for the S_VL:\")\n",
    "print(S_VL)\n",
    "\n",
    "S_VR = np.dot(VR,S_i)\n",
    "print(\"Output_stokes_vector for the S_VR:\")\n",
    "print(S_VR)\n",
    "\n",
    "S_VM = np.dot(VM,S_i)\n",
    "print(\"Output_stokes_vector for the S_VM:\")\n",
    "print(S_VM)\n",
    "\n",
    "S_VP = np.dot(VP,S_i)\n",
    "print(\"Output_stokes_vector for the S_VP:\")\n",
    "print(S_VP)\n",
    "\n",
    "S_VH = np.dot(VH,S_i)\n",
    "print(\"Output_stokes_vector for the S_VH:\")\n",
    "print(S_VH)\n",
    "\n",
    "S_VV = np.dot(VV,S_i)\n",
    "print(\"Output_stokes_vector for the S_VV:\")\n",
    "print(S_VV)"
   ]
  },
  {
   "cell_type": "markdown",
   "metadata": {},
   "source": [
    "### Defining unknown Sample Mueller matrix M (4x4)"
   ]
  },
  {
   "cell_type": "code",
   "execution_count": 167,
   "metadata": {},
   "outputs": [
    {
     "name": "stdout",
     "output_type": "stream",
     "text": [
      "Matrix([[M11, M12, M13, M14], [M21, M22, M23, M24], [M31, M32, M33, M34], [M41, M42, M43, M44]])\n"
     ]
    }
   ],
   "source": [
    "M_elements = symbols('M11 M12 M13 M14 M21 M22 M23 M24 M31 M32 M33 M34 M41 M42 M43 M44')\n",
    "M = Matrix(4, 4, M_elements)\n",
    "print(M)"
   ]
  },
  {
   "cell_type": "markdown",
   "metadata": {},
   "source": [
    "#### Convert numpy matrices to SymPy matrices for symbolic multiplication"
   ]
  },
  {
   "cell_type": "code",
   "execution_count": 158,
   "metadata": {},
   "outputs": [],
   "source": [
    "L1_sym = Matrix(L1)\n",
    "L2_sym = Matrix(L2)\n",
    "L3_sym = Matrix(L3)\n",
    "L4_sym = Matrix(L4)"
   ]
  },
  {
   "cell_type": "code",
   "execution_count": 159,
   "metadata": {},
   "outputs": [],
   "source": [
    "Q1_sym = Matrix(Q1)\n",
    "Q2_sym = Matrix(Q2)\n",
    "Q3_sym = Matrix(Q3)\n",
    "Q4_sym = Matrix(Q4)\n"
   ]
  },
  {
   "cell_type": "code",
   "execution_count": 160,
   "metadata": {},
   "outputs": [],
   "source": [
    "Si_sym = Matrix(S_i)"
   ]
  },
  {
   "cell_type": "code",
   "execution_count": 161,
   "metadata": {},
   "outputs": [],
   "source": [
    "SML_sym = Matrix(S_ML)\n",
    "SMR_sym = Matrix(S_MR)\n",
    "SMM_sym = Matrix(S_MM)\n",
    "SMP_sym = Matrix(S_MP)\n",
    "SMH_sym = Matrix(S_MH)\n",
    "SMV_sym = Matrix(S_MV)"
   ]
  },
  {
   "cell_type": "code",
   "execution_count": 162,
   "metadata": {},
   "outputs": [],
   "source": [
    "SRL_sym = Matrix(S_RL)\n",
    "SRR_sym = Matrix(S_RR)\n",
    "SRM_sym = Matrix(S_RM)\n",
    "SRP_sym = Matrix(S_RP)\n",
    "SRH_sym = Matrix(S_RH)\n",
    "SRV_sym = Matrix(S_RV)"
   ]
  },
  {
   "cell_type": "code",
   "execution_count": 163,
   "metadata": {},
   "outputs": [],
   "source": [
    "SHL_sym = Matrix(S_HL)\n",
    "SHR_sym = Matrix(S_HR)\n",
    "SHM_sym = Matrix(S_HM)\n",
    "SHP_sym = Matrix(S_HP)\n",
    "SHH_sym = Matrix(S_HH)\n",
    "SHV_sym = Matrix(S_HV)"
   ]
  },
  {
   "cell_type": "code",
   "execution_count": 164,
   "metadata": {},
   "outputs": [],
   "source": [
    "SPL_sym = Matrix(S_PL)\n",
    "SPR_sym = Matrix(S_PR)\n",
    "SPM_sym = Matrix(S_PM)\n",
    "SPP_sym = Matrix(S_PP)\n",
    "SPH_sym = Matrix(S_PH)\n",
    "SPV_sym = Matrix(S_PV)"
   ]
  },
  {
   "cell_type": "code",
   "execution_count": 165,
   "metadata": {},
   "outputs": [],
   "source": [
    "SLL_sym = Matrix(S_LL)\n",
    "SLR_sym = Matrix(S_LR)\n",
    "SLM_sym = Matrix(S_LM)\n",
    "SLP_sym = Matrix(S_LP)\n",
    "SLH_sym = Matrix(S_LH)\n",
    "SLV_sym = Matrix(S_LV)"
   ]
  },
  {
   "cell_type": "code",
   "execution_count": 166,
   "metadata": {},
   "outputs": [],
   "source": [
    "SVL_sym = Matrix(S_VL)\n",
    "SVR_sym = Matrix(S_VR)\n",
    "SVM_sym = Matrix(S_VM)\n",
    "SVP_sym = Matrix(S_VP)\n",
    "SVH_sym = Matrix(S_VH)\n",
    "SVV_sym = Matrix(S_VV)"
   ]
  },
  {
   "cell_type": "markdown",
   "metadata": {},
   "source": [
    "# Generating Equations for the different sets of Generators and Analyzers "
   ]
  },
  {
   "cell_type": "markdown",
   "metadata": {},
   "source": [
    "### Equations When generator set to the M"
   ]
  },
  {
   "cell_type": "markdown",
   "metadata": {},
   "source": [
    "#### Equations for ML"
   ]
  },
  {
   "cell_type": "code",
   "execution_count": null,
   "metadata": {},
   "outputs": [
    {
     "name": "stdout",
     "output_type": "stream",
     "text": [
      "Eq(0.25, 0.25*M11 + 1.53080849893419e-17*M12 - 0.25*M13 + 1.53080849893419e-17*M21 + 9.37349864163661e-34*M22 - 1.53080849893419e-17*M23 + 0.25*M41 + 1.53080849893419e-17*M42 - 0.25*M43)\n",
      "Eq(1.53080849893419e-17, 1.53080849893419e-17*M11 + 9.37349864163661e-34*M12 - 1.53080849893419e-17*M13 + 9.37349864163661e-34*M21 + 5.73961255414617e-50*M22 - 9.37349864163661e-34*M23 + 1.53080849893419e-17*M41 + 9.37349864163661e-34*M42 - 1.53080849893419e-17*M43)\n",
      "Eq(0.25, 0.25*M11 + 1.53080849893419e-17*M12 - 0.25*M13 + 1.53080849893419e-17*M21 + 9.37349864163661e-34*M22 - 1.53080849893419e-17*M23 + 0.25*M41 + 1.53080849893419e-17*M42 - 0.25*M43)\n",
      "True\n"
     ]
    }
   ],
   "source": [
    "# Define the combined symbolic matrix A = L3 * Q2 * M * Q1 * L1\n",
    "A_sym = L3_sym * Q2_sym * M * Q1_sym * L1_sym\n",
    "\n",
    "# Define equations for So = A * Si\n",
    "equations = []\n",
    "for i in range(4):\n",
    "    equation = Eq(SML_sym[i], sum(A_sym[i, j] * Si_sym[j] for j in range(4)))\n",
    "    equations.append(equation)\n",
    "\n",
    "# Print each equation\n",
    "for eq in equations:\n",
    "    print(eq)"
   ]
  },
  {
   "cell_type": "markdown",
   "metadata": {},
   "source": [
    "#### Equations for MR"
   ]
  },
  {
   "cell_type": "code",
   "execution_count": null,
   "metadata": {},
   "outputs": [
    {
     "name": "stdout",
     "output_type": "stream",
     "text": [
      "Eq(0.25, 0.25*M11 + 1.53080849893419e-17*M12 - 0.25*M13 + 1.53080849893419e-17*M21 + 9.37349864163661e-34*M22 - 1.53080849893419e-17*M23 - 0.25*M41 - 1.53080849893419e-17*M42 + 0.25*M43)\n",
      "Eq(1.53080849893419e-17, 1.53080849893419e-17*M11 + 9.37349864163661e-34*M12 - 1.53080849893419e-17*M13 + 9.37349864163661e-34*M21 + 5.73961255414617e-50*M22 - 9.37349864163661e-34*M23 - 1.53080849893419e-17*M41 - 9.37349864163661e-34*M42 + 1.53080849893419e-17*M43)\n",
      "Eq(-0.25, -0.25*M11 - 1.53080849893419e-17*M12 + 0.25*M13 - 1.53080849893419e-17*M21 - 9.37349864163661e-34*M22 + 1.53080849893419e-17*M23 + 0.25*M41 + 1.53080849893419e-17*M42 - 0.25*M43)\n",
      "True\n"
     ]
    }
   ],
   "source": [
    "# Define the combined symbolic matrix A = L3 * Q2 * M * Q1 * L1\n",
    "A_sym = L1_sym * Q2_sym * M * Q1_sym * L1_sym\n",
    "\n",
    "# Define equations for So = A * Si\n",
    "equations = []\n",
    "for i in range(4):\n",
    "    equation = Eq(SMR_sym[i], sum(A_sym[i, j] * Si_sym[j] for j in range(4)))\n",
    "    equations.append(equation)\n",
    "\n",
    "# Print each equation\n",
    "for eq in equations:\n",
    "    print(eq)"
   ]
  },
  {
   "cell_type": "markdown",
   "metadata": {},
   "source": [
    "#### Equations for MM"
   ]
  },
  {
   "cell_type": "code",
   "execution_count": 170,
   "metadata": {},
   "outputs": [
    {
     "name": "stdout",
     "output_type": "stream",
     "text": [
      "Eq(0.5, 0.25*M11 + 1.53080849893419e-17*M12 - 0.25*M13 - 1.53080849893419e-17*M21 - 9.37349864163661e-34*M22 + 1.53080849893419e-17*M23 - 0.25*M31 - 1.53080849893419e-17*M32 + 0.25*M33 - 3.06161699786838e-17*M41 - 1.87469972832732e-33*M42 + 3.06161699786838e-17*M43)\n",
      "Eq(3.06161699786838e-17, 1.53080849893419e-17*M11 + 9.37349864163661e-34*M12 - 1.53080849893419e-17*M13 - 9.37349864163661e-34*M21 - 5.73961255414617e-50*M22 + 9.37349864163661e-34*M23 - 1.53080849893419e-17*M31 - 9.37349864163661e-34*M32 + 1.53080849893419e-17*M33 - 1.87469972832732e-33*M41 - 1.14792251082923e-49*M42 + 1.87469972832732e-33*M43)\n",
      "Eq(-0.5, -0.25*M11 - 1.53080849893419e-17*M12 + 0.25*M13 + 1.53080849893419e-17*M21 + 9.37349864163661e-34*M22 - 1.53080849893419e-17*M23 + 0.25*M31 + 1.53080849893419e-17*M32 - 0.25*M33 + 3.06161699786838e-17*M41 + 1.87469972832732e-33*M42 - 3.06161699786838e-17*M43)\n",
      "True\n"
     ]
    }
   ],
   "source": [
    "# Define the combined symbolic matrix A = L3 * Q2 * M * Q1 * L1\n",
    "A_sym = L1_sym * Q3_sym * M * Q1_sym * L1_sym\n",
    "\n",
    "# Define equations for S1o = A * Si\n",
    "equations = []\n",
    "for i in range(4):\n",
    "    equation = Eq(SMM_sym[i], sum(A_sym[i, j] * Si_sym[j] for j in range(4)))\n",
    "    equations.append(equation)\n",
    "\n",
    "# Print each equation\n",
    "for eq in equations:\n",
    "    print(eq)"
   ]
  },
  {
   "cell_type": "markdown",
   "metadata": {},
   "source": [
    "#### Equations for MP"
   ]
  },
  {
   "cell_type": "code",
   "execution_count": 171,
   "metadata": {},
   "outputs": [
    {
     "name": "stdout",
     "output_type": "stream",
     "text": [
      "Eq(0, 0.25*M11 + 1.53080849893419e-17*M12 - 0.25*M13 - 1.53080849893419e-17*M21 - 9.37349864163661e-34*M22 + 1.53080849893419e-17*M23 + 0.25*M31 + 1.53080849893419e-17*M32 - 0.25*M33 + 3.06161699786838e-17*M41 + 1.87469972832732e-33*M42 - 3.06161699786838e-17*M43)\n",
      "Eq(0, 1.53080849893419e-17*M11 + 9.37349864163661e-34*M12 - 1.53080849893419e-17*M13 - 9.37349864163661e-34*M21 - 5.73961255414617e-50*M22 + 9.37349864163661e-34*M23 + 1.53080849893419e-17*M31 + 9.37349864163661e-34*M32 - 1.53080849893419e-17*M33 + 1.87469972832732e-33*M41 + 1.14792251082923e-49*M42 - 1.87469972832732e-33*M43)\n",
      "Eq(0, 0.25*M11 + 1.53080849893419e-17*M12 - 0.25*M13 - 1.53080849893419e-17*M21 - 9.37349864163661e-34*M22 + 1.53080849893419e-17*M23 + 0.25*M31 + 1.53080849893419e-17*M32 - 0.25*M33 + 3.06161699786838e-17*M41 + 1.87469972832732e-33*M42 - 3.06161699786838e-17*M43)\n",
      "True\n"
     ]
    }
   ],
   "source": [
    "# Define the combined symbolic matrix A = L3 * Q2 * M * Q1 * L1\n",
    "A_sym = L3_sym * Q1_sym * M * Q1_sym * L1_sym\n",
    "\n",
    "# Define equations for S1o = A * Si\n",
    "equations = []\n",
    "for i in range(4):\n",
    "    equation = Eq(SMP_sym[i], sum(A_sym[i, j] * Si_sym[j] for j in range(4)))\n",
    "    equations.append(equation)\n",
    "\n",
    "# Print each equation\n",
    "for eq in equations:\n",
    "    print(eq)"
   ]
  },
  {
   "cell_type": "markdown",
   "metadata": {},
   "source": [
    "#### Equations for MH"
   ]
  },
  {
   "cell_type": "code",
   "execution_count": 172,
   "metadata": {},
   "outputs": [
    {
     "name": "stdout",
     "output_type": "stream",
     "text": [
      "Eq(0.25, 0.25*M11 + 1.53080849893419e-17*M12 - 0.25*M13 + 0.25*M21 + 1.53080849893419e-17*M22 - 0.25*M23 - 3.06161699786838e-17*M31 - 1.87469972832732e-33*M32 + 3.06161699786838e-17*M33 - 3.06161699786838e-17*M41 - 1.87469972832732e-33*M42 + 3.06161699786838e-17*M43)\n",
      "Eq(0.25, 0.25*M11 + 1.53080849893419e-17*M12 - 0.25*M13 + 0.25*M21 + 1.53080849893419e-17*M22 - 0.25*M23 - 3.06161699786838e-17*M31 - 1.87469972832732e-33*M32 + 3.06161699786838e-17*M33 - 3.06161699786838e-17*M41 - 1.87469972832732e-33*M42 + 3.06161699786838e-17*M43)\n",
      "True\n",
      "True\n"
     ]
    }
   ],
   "source": [
    "# Define the combined symbolic matrix A = L3 * Q2 * M * Q1 * L1\n",
    "A_sym = L2_sym * Q4_sym * M * Q1_sym * L1_sym\n",
    "\n",
    "# Define equations for S1o = A * Si\n",
    "equations = []\n",
    "for i in range(4):\n",
    "    equation = Eq(SMH_sym[i], sum(A_sym[i, j] * Si_sym[j] for j in range(4)))\n",
    "    equations.append(equation)\n",
    "\n",
    "# Print each equation\n",
    "for eq in equations:\n",
    "    print(eq)"
   ]
  },
  {
   "cell_type": "markdown",
   "metadata": {},
   "source": [
    "#### Equations for MV"
   ]
  },
  {
   "cell_type": "code",
   "execution_count": 176,
   "metadata": {},
   "outputs": [
    {
     "name": "stdout",
     "output_type": "stream",
     "text": [
      "Eq(0.25, 0.25*M11 + 1.53080849893419e-17*M12 - 0.25*M13 - 0.25*M21 - 1.53080849893419e-17*M22 + 0.25*M23 + 3.06161699786838e-17*M31 + 1.87469972832732e-33*M32 - 3.06161699786838e-17*M33)\n",
      "Eq(-0.25, -0.25*M11 - 1.53080849893419e-17*M12 + 0.25*M13 + 0.25*M21 + 1.53080849893419e-17*M22 - 0.25*M23 - 3.06161699786838e-17*M31 - 1.87469972832732e-33*M32 + 3.06161699786838e-17*M33)\n",
      "Eq(3.06161699786838e-17, 3.06161699786838e-17*M11 + 1.87469972832732e-33*M12 - 3.06161699786838e-17*M13 - 3.06161699786838e-17*M21 - 1.87469972832732e-33*M22 + 3.06161699786838e-17*M23 + 3.74939945665464e-33*M31 + 2.29584502165847e-49*M32 - 3.74939945665464e-33*M33)\n",
      "True\n"
     ]
    }
   ],
   "source": [
    "# Define the combined symbolic matrix A = L3 * Q2 * M * Q1 * L1\n",
    "A_sym = L4_sym * Q4_sym * M * Q1_sym * L1_sym\n",
    "\n",
    "# Define equations for S1o = A * Si\n",
    "equations = []\n",
    "for i in range(4):\n",
    "    equation = Eq(SMV_sym[i], sum(A_sym[i, j] * Si_sym[j] for j in range(4)))\n",
    "    equations.append(equation)\n",
    "\n",
    "# Print each equation\n",
    "for eq in equations:\n",
    "    print(eq)"
   ]
  },
  {
   "cell_type": "markdown",
   "metadata": {},
   "source": [
    "#### Equations for RL"
   ]
  },
  {
   "cell_type": "code",
   "execution_count": 177,
   "metadata": {},
   "outputs": [
    {
     "name": "stdout",
     "output_type": "stream",
     "text": [
      "Eq(0.5, 0.25*M11 + 4.59242549680257e-17*M12 - 5.62409918498197e-33*M13 - 0.25*M14 + 1.53080849893419e-17*M21 + 2.81204959249098e-33*M22 - 3.4437675324877e-49*M23 - 1.53080849893419e-17*M24 + 0.25*M41 + 4.59242549680257e-17*M42 - 5.62409918498197e-33*M43 - 0.25*M44)\n",
      "Eq(3.06161699786838e-17, 1.53080849893419e-17*M11 + 2.81204959249098e-33*M12 - 3.4437675324877e-49*M13 - 1.53080849893419e-17*M14 + 9.37349864163661e-34*M21 + 1.72188376624385e-49*M22 - 2.10869944283432e-65*M23 - 9.37349864163661e-34*M24 + 1.53080849893419e-17*M41 + 2.81204959249098e-33*M42 - 3.4437675324877e-49*M43 - 1.53080849893419e-17*M44)\n",
      "Eq(0.5, 0.25*M11 + 4.59242549680257e-17*M12 - 5.62409918498197e-33*M13 - 0.25*M14 + 1.53080849893419e-17*M21 + 2.81204959249098e-33*M22 - 3.4437675324877e-49*M23 - 1.53080849893419e-17*M24 + 0.25*M41 + 4.59242549680257e-17*M42 - 5.62409918498197e-33*M43 - 0.25*M44)\n",
      "True\n"
     ]
    }
   ],
   "source": [
    "# Define the combined symbolic matrix A = L3 * Q2 * M * Q1 * L1\n",
    "A_sym = L3_sym * Q2_sym * M * Q4_sym * L1_sym\n",
    "\n",
    "# Define equations for S1o = A * Si\n",
    "equations = []\n",
    "for i in range(4):\n",
    "    equation = Eq(SRL_sym[i], sum(A_sym[i, j] * Si_sym[j] for j in range(4)))\n",
    "    equations.append(equation)\n",
    "\n",
    "# Print each equation\n",
    "for eq in equations:\n",
    "    print(eq)"
   ]
  },
  {
   "cell_type": "markdown",
   "metadata": {},
   "source": [
    "#### Equations for RR"
   ]
  },
  {
   "cell_type": "code",
   "execution_count": 178,
   "metadata": {},
   "outputs": [
    {
     "name": "stdout",
     "output_type": "stream",
     "text": [
      "Eq(0, 0.25*M11 + 4.59242549680257e-17*M12 - 5.62409918498197e-33*M13 - 0.25*M14 + 1.53080849893419e-17*M21 + 2.81204959249098e-33*M22 - 3.4437675324877e-49*M23 - 1.53080849893419e-17*M24 - 0.25*M41 - 4.59242549680257e-17*M42 + 5.62409918498197e-33*M43 + 0.25*M44)\n",
      "Eq(0, 1.53080849893419e-17*M11 + 2.81204959249098e-33*M12 - 3.4437675324877e-49*M13 - 1.53080849893419e-17*M14 + 9.37349864163661e-34*M21 + 1.72188376624385e-49*M22 - 2.10869944283432e-65*M23 - 9.37349864163661e-34*M24 - 1.53080849893419e-17*M41 - 2.81204959249098e-33*M42 + 3.4437675324877e-49*M43 + 1.53080849893419e-17*M44)\n",
      "Eq(0, -0.25*M11 - 4.59242549680257e-17*M12 + 5.62409918498197e-33*M13 + 0.25*M14 - 1.53080849893419e-17*M21 - 2.81204959249098e-33*M22 + 3.4437675324877e-49*M23 + 1.53080849893419e-17*M24 + 0.25*M41 + 4.59242549680257e-17*M42 - 5.62409918498197e-33*M43 - 0.25*M44)\n",
      "True\n"
     ]
    }
   ],
   "source": [
    "# Define the combined symbolic matrix A = L3 * Q2 * M * Q1 * L1\n",
    "A_sym = L1_sym * Q2_sym * M * Q4_sym * L1_sym\n",
    "\n",
    "# Define equations for S1o = A * Si\n",
    "equations = []\n",
    "for i in range(4):\n",
    "    equation = Eq(SRR_sym[i], sum(A_sym[i, j] * Si_sym[j] for j in range(4)))\n",
    "    equations.append(equation)\n",
    "\n",
    "# Print each equation\n",
    "for eq in equations:\n",
    "    print(eq)"
   ]
  },
  {
   "cell_type": "markdown",
   "metadata": {},
   "source": [
    "#### Equations for RM"
   ]
  },
  {
   "cell_type": "code",
   "execution_count": 179,
   "metadata": {},
   "outputs": [
    {
     "name": "stdout",
     "output_type": "stream",
     "text": [
      "Eq(0.25, 0.25*M11 + 4.59242549680257e-17*M12 - 5.62409918498197e-33*M13 - 0.25*M14 - 1.53080849893419e-17*M21 - 2.81204959249098e-33*M22 + 3.4437675324877e-49*M23 + 1.53080849893419e-17*M24 - 0.25*M31 - 4.59242549680257e-17*M32 + 5.62409918498197e-33*M33 + 0.25*M34 - 3.06161699786838e-17*M41 - 5.62409918498197e-33*M42 + 6.8875350649754e-49*M43 + 3.06161699786838e-17*M44)\n",
      "Eq(1.53080849893419e-17, 1.53080849893419e-17*M11 + 2.81204959249098e-33*M12 - 3.4437675324877e-49*M13 - 1.53080849893419e-17*M14 - 9.37349864163661e-34*M21 - 1.72188376624385e-49*M22 + 2.10869944283432e-65*M23 + 9.37349864163661e-34*M24 - 1.53080849893419e-17*M31 - 2.81204959249098e-33*M32 + 3.4437675324877e-49*M33 + 1.53080849893419e-17*M34 - 1.87469972832732e-33*M41 - 3.4437675324877e-49*M42 + 4.21739888566864e-65*M43 + 1.87469972832732e-33*M44)\n",
      "Eq(-0.25, -0.25*M11 - 4.59242549680257e-17*M12 + 5.62409918498197e-33*M13 + 0.25*M14 + 1.53080849893419e-17*M21 + 2.81204959249098e-33*M22 - 3.4437675324877e-49*M23 - 1.53080849893419e-17*M24 + 0.25*M31 + 4.59242549680257e-17*M32 - 5.62409918498197e-33*M33 - 0.25*M34 + 3.06161699786838e-17*M41 + 5.62409918498197e-33*M42 - 6.8875350649754e-49*M43 - 3.06161699786838e-17*M44)\n",
      "True\n"
     ]
    }
   ],
   "source": [
    "# Define the combined symbolic matrix A = L3 * Q2 * M * Q1 * L1\n",
    "A_sym = L1_sym * Q3_sym * M * Q4_sym * L1_sym\n",
    "\n",
    "# Define equations for S1o = A * Si\n",
    "equations = []\n",
    "for i in range(4):\n",
    "    equation = Eq(SRM_sym[i], sum(A_sym[i, j] * Si_sym[j] for j in range(4)))\n",
    "    equations.append(equation)\n",
    "\n",
    "# Print each equation\n",
    "for eq in equations:\n",
    "    print(eq)"
   ]
  },
  {
   "cell_type": "markdown",
   "metadata": {},
   "source": [
    "#### Equations for RP"
   ]
  },
  {
   "cell_type": "code",
   "execution_count": 180,
   "metadata": {},
   "outputs": [
    {
     "name": "stdout",
     "output_type": "stream",
     "text": [
      "Eq(0.25, 0.25*M11 + 4.59242549680257e-17*M12 - 5.62409918498197e-33*M13 - 0.25*M14 - 1.53080849893419e-17*M21 - 2.81204959249098e-33*M22 + 3.4437675324877e-49*M23 + 1.53080849893419e-17*M24 + 0.25*M31 + 4.59242549680257e-17*M32 - 5.62409918498197e-33*M33 - 0.25*M34 + 3.06161699786838e-17*M41 + 5.62409918498197e-33*M42 - 6.8875350649754e-49*M43 - 3.06161699786838e-17*M44)\n",
      "Eq(1.53080849893419e-17, 1.53080849893419e-17*M11 + 2.81204959249098e-33*M12 - 3.4437675324877e-49*M13 - 1.53080849893419e-17*M14 - 9.37349864163661e-34*M21 - 1.72188376624385e-49*M22 + 2.10869944283432e-65*M23 + 9.37349864163661e-34*M24 + 1.53080849893419e-17*M31 + 2.81204959249098e-33*M32 - 3.4437675324877e-49*M33 - 1.53080849893419e-17*M34 + 1.87469972832732e-33*M41 + 3.4437675324877e-49*M42 - 4.21739888566864e-65*M43 - 1.87469972832732e-33*M44)\n",
      "Eq(0.25, 0.25*M11 + 4.59242549680257e-17*M12 - 5.62409918498197e-33*M13 - 0.25*M14 - 1.53080849893419e-17*M21 - 2.81204959249098e-33*M22 + 3.4437675324877e-49*M23 + 1.53080849893419e-17*M24 + 0.25*M31 + 4.59242549680257e-17*M32 - 5.62409918498197e-33*M33 - 0.25*M34 + 3.06161699786838e-17*M41 + 5.62409918498197e-33*M42 - 6.8875350649754e-49*M43 - 3.06161699786838e-17*M44)\n",
      "True\n"
     ]
    }
   ],
   "source": [
    "# Define the combined symbolic matrix A = L3 * Q2 * M * Q1 * L1\n",
    "A_sym = L3_sym * Q1_sym * M * Q4_sym * L1_sym\n",
    "\n",
    "# Define equations for S1o = A * Si\n",
    "equations = []\n",
    "for i in range(4):\n",
    "    equation = Eq(SRP_sym[i], sum(A_sym[i, j] * Si_sym[j] for j in range(4)))\n",
    "    equations.append(equation)\n",
    "\n",
    "# Print each equation\n",
    "for eq in equations:\n",
    "    print(eq)"
   ]
  },
  {
   "cell_type": "markdown",
   "metadata": {},
   "source": [
    "#### Equations for RH"
   ]
  },
  {
   "cell_type": "code",
   "execution_count": 181,
   "metadata": {},
   "outputs": [
    {
     "name": "stdout",
     "output_type": "stream",
     "text": [
      "Eq(0.25, 0.25*M11 + 4.59242549680257e-17*M12 - 5.62409918498197e-33*M13 - 0.25*M14 + 0.25*M21 + 4.59242549680257e-17*M22 - 5.62409918498197e-33*M23 - 0.25*M24 - 3.06161699786838e-17*M31 - 5.62409918498197e-33*M32 + 6.8875350649754e-49*M33 + 3.06161699786838e-17*M34 - 3.06161699786838e-17*M41 - 5.62409918498197e-33*M42 + 6.8875350649754e-49*M43 + 3.06161699786838e-17*M44)\n",
      "Eq(0.25, 0.25*M11 + 4.59242549680257e-17*M12 - 5.62409918498197e-33*M13 - 0.25*M14 + 0.25*M21 + 4.59242549680257e-17*M22 - 5.62409918498197e-33*M23 - 0.25*M24 - 3.06161699786838e-17*M31 - 5.62409918498197e-33*M32 + 6.8875350649754e-49*M33 + 3.06161699786838e-17*M34 - 3.06161699786838e-17*M41 - 5.62409918498197e-33*M42 + 6.8875350649754e-49*M43 + 3.06161699786838e-17*M44)\n",
      "True\n",
      "True\n"
     ]
    }
   ],
   "source": [
    "# Define the combined symbolic matrix A = L3 * Q2 * M * Q1 * L1\n",
    "A_sym = L2_sym * Q4_sym * M * Q4_sym * L1_sym\n",
    "\n",
    "# Define equations for S1o = A * Si\n",
    "equations = []\n",
    "for i in range(4):\n",
    "    equation = Eq(SRH_sym[i], sum(A_sym[i, j] * Si_sym[j] for j in range(4)))\n",
    "    equations.append(equation)\n",
    "\n",
    "# Print each equation\n",
    "for eq in equations:\n",
    "    print(eq)"
   ]
  },
  {
   "cell_type": "markdown",
   "metadata": {},
   "source": [
    "#### Equations for RV"
   ]
  },
  {
   "cell_type": "code",
   "execution_count": 182,
   "metadata": {},
   "outputs": [
    {
     "name": "stdout",
     "output_type": "stream",
     "text": [
      "Eq(0.25, 0.25*M11 + 4.59242549680257e-17*M12 - 5.62409918498197e-33*M13 - 0.25*M14 - 0.25*M21 - 4.59242549680257e-17*M22 + 5.62409918498197e-33*M23 + 0.25*M24 + 3.06161699786838e-17*M31 + 5.62409918498197e-33*M32 - 6.8875350649754e-49*M33 - 3.06161699786838e-17*M34)\n",
      "Eq(-0.25, -0.25*M11 - 4.59242549680257e-17*M12 + 5.62409918498197e-33*M13 + 0.25*M14 + 0.25*M21 + 4.59242549680257e-17*M22 - 5.62409918498197e-33*M23 - 0.25*M24 - 3.06161699786838e-17*M31 - 5.62409918498197e-33*M32 + 6.8875350649754e-49*M33 + 3.06161699786838e-17*M34)\n",
      "Eq(3.06161699786838e-17, 3.06161699786838e-17*M11 + 5.62409918498197e-33*M12 - 6.8875350649754e-49*M13 - 3.06161699786838e-17*M14 - 3.06161699786838e-17*M21 - 5.62409918498197e-33*M22 + 6.8875350649754e-49*M23 + 3.06161699786838e-17*M24 + 3.74939945665464e-33*M31 + 6.8875350649754e-49*M32 - 8.43479777133728e-65*M33 - 3.74939945665464e-33*M34)\n",
      "True\n"
     ]
    }
   ],
   "source": [
    "# Define the combined symbolic matrix A = L3 * Q2 * M * Q1 * L1\n",
    "A_sym = L4_sym * Q4_sym * M * Q4_sym * L1_sym\n",
    "\n",
    "# Define equations for S1o = A * Si\n",
    "equations = []\n",
    "for i in range(4):\n",
    "    equation = Eq(SRV_sym[i], sum(A_sym[i, j] * Si_sym[j] for j in range(4)))\n",
    "    equations.append(equation)\n",
    "\n",
    "# Print each equation\n",
    "for eq in equations:\n",
    "    print(eq)"
   ]
  },
  {
   "cell_type": "markdown",
   "metadata": {},
   "source": [
    "#### Equations for HL"
   ]
  },
  {
   "cell_type": "code",
   "execution_count": 183,
   "metadata": {},
   "outputs": [
    {
     "name": "stdout",
     "output_type": "stream",
     "text": [
      "Eq(0.25, 0.25*M11 + 0.25*M12 + 1.53080849893419e-17*M21 + 1.53080849893419e-17*M22 + 0.25*M41 + 0.25*M42)\n",
      "Eq(1.53080849893419e-17, 1.53080849893419e-17*M11 + 1.53080849893419e-17*M12 + 9.37349864163661e-34*M21 + 9.37349864163661e-34*M22 + 1.53080849893419e-17*M41 + 1.53080849893419e-17*M42)\n",
      "Eq(0.25, 0.25*M11 + 0.25*M12 + 1.53080849893419e-17*M21 + 1.53080849893419e-17*M22 + 0.25*M41 + 0.25*M42)\n",
      "True\n"
     ]
    }
   ],
   "source": [
    "# Define the combined symbolic matrix A = L3 * Q2 * M * Q1 * L1\n",
    "A_sym = L3_sym * Q2_sym * M * Q2_sym * L2_sym\n",
    "\n",
    "# Define equations for S1o = A * Si\n",
    "equations = []\n",
    "for i in range(4):\n",
    "    equation = Eq(SHL_sym[i], sum(A_sym[i, j] * Si_sym[j] for j in range(4)))\n",
    "    equations.append(equation)\n",
    "\n",
    "# Print each equation\n",
    "for eq in equations:\n",
    "    print(eq)"
   ]
  },
  {
   "cell_type": "markdown",
   "metadata": {},
   "source": [
    "#### Equations for HR"
   ]
  },
  {
   "cell_type": "code",
   "execution_count": 184,
   "metadata": {},
   "outputs": [
    {
     "name": "stdout",
     "output_type": "stream",
     "text": [
      "Eq(0.25, 0.25*M11 + 0.25*M12 + 1.53080849893419e-17*M21 + 1.53080849893419e-17*M22 - 0.25*M41 - 0.25*M42)\n",
      "Eq(1.53080849893419e-17, 1.53080849893419e-17*M11 + 1.53080849893419e-17*M12 + 9.37349864163661e-34*M21 + 9.37349864163661e-34*M22 - 1.53080849893419e-17*M41 - 1.53080849893419e-17*M42)\n",
      "Eq(-0.25, -0.25*M11 - 0.25*M12 - 1.53080849893419e-17*M21 - 1.53080849893419e-17*M22 + 0.25*M41 + 0.25*M42)\n",
      "True\n"
     ]
    }
   ],
   "source": [
    "# Define the combined symbolic matrix A = L3 * Q2 * M * Q1 * L1\n",
    "A_sym = L1_sym * Q2_sym * M * Q2_sym * L2_sym\n",
    "\n",
    "# Define equations for S1o = A * Si\n",
    "equations = []\n",
    "for i in range(4):\n",
    "    equation = Eq(SHR_sym[i], sum(A_sym[i, j] * Si_sym[j] for j in range(4)))\n",
    "    equations.append(equation)\n",
    "\n",
    "# Print each equation\n",
    "for eq in equations:\n",
    "    print(eq)"
   ]
  },
  {
   "cell_type": "markdown",
   "metadata": {},
   "source": [
    "#### Equations for HM"
   ]
  },
  {
   "cell_type": "code",
   "execution_count": 185,
   "metadata": {},
   "outputs": [
    {
     "name": "stdout",
     "output_type": "stream",
     "text": [
      "Eq(0.25, 0.25*M11 + 0.25*M12 + 1.53080849893419e-17*M21 + 1.53080849893419e-17*M22 + 0.25*M31 + 0.25*M32)\n",
      "Eq(1.53080849893419e-17, 1.53080849893419e-17*M11 + 1.53080849893419e-17*M12 + 9.37349864163661e-34*M21 + 9.37349864163661e-34*M22 + 1.53080849893419e-17*M31 + 1.53080849893419e-17*M32)\n",
      "Eq(-0.25, 0.25*M11 + 0.25*M12 + 1.53080849893419e-17*M21 + 1.53080849893419e-17*M22 + 0.25*M31 + 0.25*M32)\n",
      "True\n"
     ]
    }
   ],
   "source": [
    "# Define the combined symbolic matrix A = L3 * Q2 * M * Q1 * L1\n",
    "A_sym = L3_sym * Q3_sym * M * Q2_sym * L2_sym\n",
    "\n",
    "# Define equations for S1o = A * Si\n",
    "equations = []\n",
    "for i in range(4):\n",
    "    equation = Eq(SHM_sym[i], sum(A_sym[i, j] * Si_sym[j] for j in range(4)))\n",
    "    equations.append(equation)\n",
    "\n",
    "# Print each equation\n",
    "for eq in equations:\n",
    "    print(eq)"
   ]
  },
  {
   "cell_type": "markdown",
   "metadata": {},
   "source": [
    "#### Equations for HP"
   ]
  },
  {
   "cell_type": "code",
   "execution_count": 186,
   "metadata": {},
   "outputs": [
    {
     "name": "stdout",
     "output_type": "stream",
     "text": [
      "Eq(0.25, 0.25*M11 + 0.25*M12 - 1.53080849893419e-17*M21 - 1.53080849893419e-17*M22 + 0.25*M31 + 0.25*M32 + 3.06161699786838e-17*M41 + 3.06161699786838e-17*M42)\n",
      "Eq(1.53080849893419e-17, 1.53080849893419e-17*M11 + 1.53080849893419e-17*M12 - 9.37349864163661e-34*M21 - 9.37349864163661e-34*M22 + 1.53080849893419e-17*M31 + 1.53080849893419e-17*M32 + 1.87469972832732e-33*M41 + 1.87469972832732e-33*M42)\n",
      "Eq(0.25, 0.25*M11 + 0.25*M12 - 1.53080849893419e-17*M21 - 1.53080849893419e-17*M22 + 0.25*M31 + 0.25*M32 + 3.06161699786838e-17*M41 + 3.06161699786838e-17*M42)\n",
      "True\n"
     ]
    }
   ],
   "source": [
    "# Define the combined symbolic matrix A = L3 * Q2 * M * Q1 * L1\n",
    "A_sym = L3_sym * Q1_sym * M * Q2_sym * L2_sym\n",
    "\n",
    "# Define equations for S1o = A * Si\n",
    "equations = []\n",
    "for i in range(4):\n",
    "    equation = Eq(SHP_sym[i], sum(A_sym[i, j] * Si_sym[j] for j in range(4)))\n",
    "    equations.append(equation)\n",
    "\n",
    "# Print each equation\n",
    "for eq in equations:\n",
    "    print(eq)"
   ]
  },
  {
   "cell_type": "markdown",
   "metadata": {},
   "source": [
    "#### Equations for HH"
   ]
  },
  {
   "cell_type": "code",
   "execution_count": 187,
   "metadata": {},
   "outputs": [
    {
     "name": "stdout",
     "output_type": "stream",
     "text": [
      "Eq(0, 0.25*M11 + 0.25*M12 + 0.25*M21 + 0.25*M22 - 3.06161699786838e-17*M31 - 3.06161699786838e-17*M32 - 3.06161699786838e-17*M41 - 3.06161699786838e-17*M42)\n",
      "Eq(0, 0.25*M11 + 0.25*M12 + 0.25*M21 + 0.25*M22 - 3.06161699786838e-17*M31 - 3.06161699786838e-17*M32 - 3.06161699786838e-17*M41 - 3.06161699786838e-17*M42)\n",
      "True\n",
      "True\n"
     ]
    }
   ],
   "source": [
    "# Define the combined symbolic matrix A = L3 * Q2 * M * Q1 * L1\n",
    "A_sym = L2_sym * Q4_sym * M * Q2_sym * L2_sym\n",
    "\n",
    "# Define equations for S1o = A * Si\n",
    "equations = []\n",
    "for i in range(4):\n",
    "    equation = Eq(SHH_sym[i], sum(A_sym[i, j] * Si_sym[j] for j in range(4)))\n",
    "    equations.append(equation)\n",
    "\n",
    "# Print each equation\n",
    "for eq in equations:\n",
    "    print(eq)"
   ]
  },
  {
   "cell_type": "markdown",
   "metadata": {},
   "source": [
    "#### Equations for HV"
   ]
  },
  {
   "cell_type": "code",
   "execution_count": 188,
   "metadata": {},
   "outputs": [
    {
     "name": "stdout",
     "output_type": "stream",
     "text": [
      "Eq(0.5, 0.25*M11 + 0.25*M12 - 0.25*M21 - 0.25*M22 + 3.06161699786838e-17*M31 + 3.06161699786838e-17*M32)\n",
      "Eq(-0.5, -0.25*M11 - 0.25*M12 + 0.25*M21 + 0.25*M22 - 3.06161699786838e-17*M31 - 3.06161699786838e-17*M32)\n",
      "Eq(6.12323399573677e-17, 3.06161699786838e-17*M11 + 3.06161699786838e-17*M12 - 3.06161699786838e-17*M21 - 3.06161699786838e-17*M22 + 3.74939945665464e-33*M31 + 3.74939945665464e-33*M32)\n",
      "True\n"
     ]
    }
   ],
   "source": [
    "# Define the combined symbolic matrix A = L3 * Q2 * M * Q1 * L1\n",
    "A_sym = L4_sym * Q4_sym * M * Q2_sym * L2_sym\n",
    "\n",
    "# Define equations for S1o = A * Si\n",
    "equations = []\n",
    "for i in range(4):\n",
    "    equation = Eq(SHV_sym[i], sum(A_sym[i, j] * Si_sym[j] for j in range(4)))\n",
    "    equations.append(equation)\n",
    "\n",
    "# Print each equation\n",
    "for eq in equations:\n",
    "    print(eq)"
   ]
  },
  {
   "cell_type": "markdown",
   "metadata": {},
   "source": [
    "#### Equations for PL"
   ]
  },
  {
   "cell_type": "code",
   "execution_count": 189,
   "metadata": {},
   "outputs": [
    {
     "name": "stdout",
     "output_type": "stream",
     "text": [
      "Eq(0.25, 0.25*M11 + 1.53080849893419e-17*M12 + 0.25*M13 + 1.53080849893419e-17*M21 + 9.37349864163661e-34*M22 + 1.53080849893419e-17*M23 + 0.25*M41 + 1.53080849893419e-17*M42 + 0.25*M43)\n",
      "Eq(1.53080849893419e-17, 1.53080849893419e-17*M11 + 9.37349864163661e-34*M12 + 1.53080849893419e-17*M13 + 9.37349864163661e-34*M21 + 5.73961255414617e-50*M22 + 9.37349864163661e-34*M23 + 1.53080849893419e-17*M41 + 9.37349864163661e-34*M42 + 1.53080849893419e-17*M43)\n",
      "Eq(0.25, 0.25*M11 + 1.53080849893419e-17*M12 + 0.25*M13 + 1.53080849893419e-17*M21 + 9.37349864163661e-34*M22 + 1.53080849893419e-17*M23 + 0.25*M41 + 1.53080849893419e-17*M42 + 0.25*M43)\n",
      "True\n"
     ]
    }
   ],
   "source": [
    "# Define the combined symbolic matrix A = L3 * Q2 * M * Q1 * L1\n",
    "A_sym = L3_sym * Q2_sym * M * Q3_sym * L3_sym\n",
    "\n",
    "# Define equations for S1o = A * Si\n",
    "equations = []\n",
    "for i in range(4):\n",
    "    equation = Eq(SPL_sym[i], sum(A_sym[i, j] * Si_sym[j] for j in range(4)))\n",
    "    equations.append(equation)\n",
    "\n",
    "# Print each equation\n",
    "for eq in equations:\n",
    "    print(eq)"
   ]
  },
  {
   "cell_type": "markdown",
   "metadata": {},
   "source": [
    "#### Equations for PR"
   ]
  },
  {
   "cell_type": "code",
   "execution_count": 190,
   "metadata": {},
   "outputs": [
    {
     "name": "stdout",
     "output_type": "stream",
     "text": [
      "Eq(0.25, 0.25*M11 + 1.53080849893419e-17*M12 + 0.25*M13 + 1.53080849893419e-17*M21 + 9.37349864163661e-34*M22 + 1.53080849893419e-17*M23 - 0.25*M41 - 1.53080849893419e-17*M42 - 0.25*M43)\n",
      "Eq(1.53080849893419e-17, 1.53080849893419e-17*M11 + 9.37349864163661e-34*M12 + 1.53080849893419e-17*M13 + 9.37349864163661e-34*M21 + 5.73961255414617e-50*M22 + 9.37349864163661e-34*M23 - 1.53080849893419e-17*M41 - 9.37349864163661e-34*M42 - 1.53080849893419e-17*M43)\n",
      "Eq(-0.25, -0.25*M11 - 1.53080849893419e-17*M12 - 0.25*M13 - 1.53080849893419e-17*M21 - 9.37349864163661e-34*M22 - 1.53080849893419e-17*M23 + 0.25*M41 + 1.53080849893419e-17*M42 + 0.25*M43)\n",
      "True\n"
     ]
    }
   ],
   "source": [
    "# Define the combined symbolic matrix A = L3 * Q2 * M * Q1 * L1\n",
    "A_sym = L1_sym * Q2_sym * M * Q3_sym * L3_sym\n",
    "\n",
    "# Define equations for S1o = A * Si\n",
    "equations = []\n",
    "for i in range(4):\n",
    "    equation = Eq(SPR_sym[i], sum(A_sym[i, j] * Si_sym[j] for j in range(4)))\n",
    "    equations.append(equation)\n",
    "\n",
    "# Print each equation\n",
    "for eq in equations:\n",
    "    print(eq)"
   ]
  },
  {
   "cell_type": "markdown",
   "metadata": {},
   "source": [
    "#### Equations for PM"
   ]
  },
  {
   "cell_type": "code",
   "execution_count": 191,
   "metadata": {},
   "outputs": [
    {
     "name": "stdout",
     "output_type": "stream",
     "text": [
      "Eq(0, 0.25*M11 + 1.53080849893419e-17*M12 + 0.25*M13 - 1.53080849893419e-17*M21 - 9.37349864163661e-34*M22 - 1.53080849893419e-17*M23 - 0.25*M31 - 1.53080849893419e-17*M32 - 0.25*M33 - 3.06161699786838e-17*M41 - 1.87469972832732e-33*M42 - 3.06161699786838e-17*M43)\n",
      "Eq(0, 1.53080849893419e-17*M11 + 9.37349864163661e-34*M12 + 1.53080849893419e-17*M13 - 9.37349864163661e-34*M21 - 5.73961255414617e-50*M22 - 9.37349864163661e-34*M23 - 1.53080849893419e-17*M31 - 9.37349864163661e-34*M32 - 1.53080849893419e-17*M33 - 1.87469972832732e-33*M41 - 1.14792251082923e-49*M42 - 1.87469972832732e-33*M43)\n",
      "Eq(0, -0.25*M11 - 1.53080849893419e-17*M12 - 0.25*M13 + 1.53080849893419e-17*M21 + 9.37349864163661e-34*M22 + 1.53080849893419e-17*M23 + 0.25*M31 + 1.53080849893419e-17*M32 + 0.25*M33 + 3.06161699786838e-17*M41 + 1.87469972832732e-33*M42 + 3.06161699786838e-17*M43)\n",
      "True\n"
     ]
    }
   ],
   "source": [
    "# Define the combined symbolic matrix A = L3 * Q2 * M * Q1 * L1\n",
    "A_sym = L1_sym * Q3_sym * M * Q3_sym * L3_sym\n",
    "\n",
    "# Define equations for S1o = A * Si\n",
    "equations = []\n",
    "for i in range(4):\n",
    "    equation = Eq(SPM_sym[i], sum(A_sym[i, j] * Si_sym[j] for j in range(4)))\n",
    "    equations.append(equation)\n",
    "\n",
    "# Print each equation\n",
    "for eq in equations:\n",
    "    print(eq)"
   ]
  },
  {
   "cell_type": "markdown",
   "metadata": {},
   "source": [
    "#### Equations for PP"
   ]
  },
  {
   "cell_type": "code",
   "execution_count": 192,
   "metadata": {},
   "outputs": [
    {
     "name": "stdout",
     "output_type": "stream",
     "text": [
      "Eq(0.5, 0.25*M11 + 1.53080849893419e-17*M12 + 0.25*M13 - 1.53080849893419e-17*M21 - 9.37349864163661e-34*M22 - 1.53080849893419e-17*M23 + 0.25*M31 + 1.53080849893419e-17*M32 + 0.25*M33 + 3.06161699786838e-17*M41 + 1.87469972832732e-33*M42 + 3.06161699786838e-17*M43)\n",
      "Eq(3.06161699786838e-17, 1.53080849893419e-17*M11 + 9.37349864163661e-34*M12 + 1.53080849893419e-17*M13 - 9.37349864163661e-34*M21 - 5.73961255414617e-50*M22 - 9.37349864163661e-34*M23 + 1.53080849893419e-17*M31 + 9.37349864163661e-34*M32 + 1.53080849893419e-17*M33 + 1.87469972832732e-33*M41 + 1.14792251082923e-49*M42 + 1.87469972832732e-33*M43)\n",
      "Eq(0.5, 0.25*M11 + 1.53080849893419e-17*M12 + 0.25*M13 - 1.53080849893419e-17*M21 - 9.37349864163661e-34*M22 - 1.53080849893419e-17*M23 + 0.25*M31 + 1.53080849893419e-17*M32 + 0.25*M33 + 3.06161699786838e-17*M41 + 1.87469972832732e-33*M42 + 3.06161699786838e-17*M43)\n",
      "True\n"
     ]
    }
   ],
   "source": [
    "# Define the combined symbolic matrix A = L3 * Q2 * M * Q1 * L1\n",
    "A_sym = L3_sym * Q1_sym * M * Q3_sym * L3_sym\n",
    "\n",
    "# Define equations for S1o = A * Si\n",
    "equations = []\n",
    "for i in range(4):\n",
    "    equation = Eq(SPP_sym[i], sum(A_sym[i, j] * Si_sym[j] for j in range(4)))\n",
    "    equations.append(equation)\n",
    "\n",
    "# Print each equation\n",
    "for eq in equations:\n",
    "    print(eq)"
   ]
  },
  {
   "cell_type": "markdown",
   "metadata": {},
   "source": [
    "#### Equations for PH"
   ]
  },
  {
   "cell_type": "code",
   "execution_count": 193,
   "metadata": {},
   "outputs": [
    {
     "name": "stdout",
     "output_type": "stream",
     "text": [
      "Eq(0.25, 0.25*M11 + 1.53080849893419e-17*M12 + 0.25*M13 + 0.25*M21 + 1.53080849893419e-17*M22 + 0.25*M23 - 3.06161699786838e-17*M31 - 1.87469972832732e-33*M32 - 3.06161699786838e-17*M33 - 3.06161699786838e-17*M41 - 1.87469972832732e-33*M42 - 3.06161699786838e-17*M43)\n",
      "Eq(0.25, 0.25*M11 + 1.53080849893419e-17*M12 + 0.25*M13 + 0.25*M21 + 1.53080849893419e-17*M22 + 0.25*M23 - 3.06161699786838e-17*M31 - 1.87469972832732e-33*M32 - 3.06161699786838e-17*M33 - 3.06161699786838e-17*M41 - 1.87469972832732e-33*M42 - 3.06161699786838e-17*M43)\n",
      "True\n",
      "True\n"
     ]
    }
   ],
   "source": [
    "# Define the combined symbolic matrix A = L3 * Q2 * M * Q1 * L1\n",
    "A_sym = L2_sym * Q4_sym * M * Q3_sym * L3_sym\n",
    "\n",
    "# Define equations for S1o = A * Si\n",
    "equations = []\n",
    "for i in range(4):\n",
    "    equation = Eq(SPH_sym[i], sum(A_sym[i, j] * Si_sym[j] for j in range(4)))\n",
    "    equations.append(equation)\n",
    "\n",
    "# Print each equation\n",
    "for eq in equations:\n",
    "    print(eq)"
   ]
  },
  {
   "cell_type": "markdown",
   "metadata": {},
   "source": [
    "#### Equations for PV"
   ]
  },
  {
   "cell_type": "code",
   "execution_count": 194,
   "metadata": {},
   "outputs": [
    {
     "name": "stdout",
     "output_type": "stream",
     "text": [
      "Eq(0.25, 0.25*M11 + 1.53080849893419e-17*M12 + 0.25*M13 - 0.25*M21 - 1.53080849893419e-17*M22 - 0.25*M23 + 3.06161699786838e-17*M31 + 1.87469972832732e-33*M32 + 3.06161699786838e-17*M33)\n",
      "Eq(-0.25, -0.25*M11 - 1.53080849893419e-17*M12 - 0.25*M13 + 0.25*M21 + 1.53080849893419e-17*M22 + 0.25*M23 - 3.06161699786838e-17*M31 - 1.87469972832732e-33*M32 - 3.06161699786838e-17*M33)\n",
      "Eq(3.06161699786838e-17, 3.06161699786838e-17*M11 + 1.87469972832732e-33*M12 + 3.06161699786838e-17*M13 - 3.06161699786838e-17*M21 - 1.87469972832732e-33*M22 - 3.06161699786838e-17*M23 + 3.74939945665464e-33*M31 + 2.29584502165847e-49*M32 + 3.74939945665464e-33*M33)\n",
      "True\n"
     ]
    }
   ],
   "source": [
    "# Define the combined symbolic matrix A = L3 * Q2 * M * Q1 * L1\n",
    "A_sym = L4_sym * Q4_sym * M * Q3_sym * L3_sym\n",
    "\n",
    "# Define equations for S1o = A * Si\n",
    "equations = []\n",
    "for i in range(4):\n",
    "    equation = Eq(SPV_sym[i], sum(A_sym[i, j] * Si_sym[j] for j in range(4)))\n",
    "    equations.append(equation)\n",
    "\n",
    "# Print each equation\n",
    "for eq in equations:\n",
    "    print(eq)"
   ]
  },
  {
   "cell_type": "markdown",
   "metadata": {},
   "source": [
    "#### Equations for LL"
   ]
  },
  {
   "cell_type": "code",
   "execution_count": 195,
   "metadata": {},
   "outputs": [
    {
     "name": "stdout",
     "output_type": "stream",
     "text": [
      "Eq(0, 0.25*M11 - 1.53080849893419e-17*M12 + 1.87469972832732e-33*M13 + 0.25*M14 + 1.53080849893419e-17*M21 - 9.37349864163661e-34*M22 + 1.14792251082923e-49*M23 + 1.53080849893419e-17*M24 + 0.25*M41 - 1.53080849893419e-17*M42 + 1.87469972832732e-33*M43 + 0.25*M44)\n",
      "Eq(0, 1.53080849893419e-17*M11 - 9.37349864163661e-34*M12 + 1.14792251082923e-49*M13 + 1.53080849893419e-17*M14 + 9.37349864163661e-34*M21 - 5.73961255414617e-50*M22 + 7.02899814278107e-66*M23 + 9.37349864163661e-34*M24 + 1.53080849893419e-17*M41 - 9.37349864163661e-34*M42 + 1.14792251082923e-49*M43 + 1.53080849893419e-17*M44)\n",
      "Eq(0, 0.25*M11 - 1.53080849893419e-17*M12 + 1.87469972832732e-33*M13 + 0.25*M14 + 1.53080849893419e-17*M21 - 9.37349864163661e-34*M22 + 1.14792251082923e-49*M23 + 1.53080849893419e-17*M24 + 0.25*M41 - 1.53080849893419e-17*M42 + 1.87469972832732e-33*M43 + 0.25*M44)\n",
      "True\n"
     ]
    }
   ],
   "source": [
    "# Define the combined symbolic matrix A = L3 * Q2 * M * Q1 * L1\n",
    "A_sym = L3_sym * Q2_sym * M * Q4_sym * L3_sym\n",
    "\n",
    "# Define equations for S1o = A * Si\n",
    "equations = []\n",
    "for i in range(4):\n",
    "    equation = Eq(SLL_sym[i], sum(A_sym[i, j] * Si_sym[j] for j in range(4)))\n",
    "    equations.append(equation)\n",
    "\n",
    "# Print each equation\n",
    "for eq in equations:\n",
    "    print(eq)"
   ]
  },
  {
   "cell_type": "markdown",
   "metadata": {},
   "source": [
    "#### Equations for LR"
   ]
  },
  {
   "cell_type": "code",
   "execution_count": 196,
   "metadata": {},
   "outputs": [
    {
     "name": "stdout",
     "output_type": "stream",
     "text": [
      "Eq(0.5, 0.25*M11 - 1.53080849893419e-17*M12 + 1.87469972832732e-33*M13 + 0.25*M14 + 1.53080849893419e-17*M21 - 9.37349864163661e-34*M22 + 1.14792251082923e-49*M23 + 1.53080849893419e-17*M24 - 0.25*M41 + 1.53080849893419e-17*M42 - 1.87469972832732e-33*M43 - 0.25*M44)\n",
      "Eq(3.06161699786838e-17, 1.53080849893419e-17*M11 - 9.37349864163661e-34*M12 + 1.14792251082923e-49*M13 + 1.53080849893419e-17*M14 + 9.37349864163661e-34*M21 - 5.73961255414617e-50*M22 + 7.02899814278107e-66*M23 + 9.37349864163661e-34*M24 - 1.53080849893419e-17*M41 + 9.37349864163661e-34*M42 - 1.14792251082923e-49*M43 - 1.53080849893419e-17*M44)\n",
      "Eq(-0.5, -0.25*M11 + 1.53080849893419e-17*M12 - 1.87469972832732e-33*M13 - 0.25*M14 - 1.53080849893419e-17*M21 + 9.37349864163661e-34*M22 - 1.14792251082923e-49*M23 - 1.53080849893419e-17*M24 + 0.25*M41 - 1.53080849893419e-17*M42 + 1.87469972832732e-33*M43 + 0.25*M44)\n",
      "True\n"
     ]
    }
   ],
   "source": [
    "# Define the combined symbolic matrix A = L3 * Q2 * M * Q1 * L1\n",
    "A_sym = L1_sym * Q2_sym * M * Q4_sym * L3_sym\n",
    "\n",
    "# Define equations for S1o = A * Si\n",
    "equations = []\n",
    "for i in range(4):\n",
    "    equation = Eq(SLR_sym[i], sum(A_sym[i, j] * Si_sym[j] for j in range(4)))\n",
    "    equations.append(equation)\n",
    "\n",
    "# Print each equation\n",
    "for eq in equations:\n",
    "    print(eq)"
   ]
  },
  {
   "cell_type": "markdown",
   "metadata": {},
   "source": [
    "#### Equations for LM"
   ]
  },
  {
   "cell_type": "code",
   "execution_count": 197,
   "metadata": {},
   "outputs": [
    {
     "name": "stdout",
     "output_type": "stream",
     "text": [
      "Eq(0.25, 0.25*M11 - 1.53080849893419e-17*M12 + 1.87469972832732e-33*M13 + 0.25*M14 - 1.53080849893419e-17*M21 + 9.37349864163661e-34*M22 - 1.14792251082923e-49*M23 - 1.53080849893419e-17*M24 - 0.25*M31 + 1.53080849893419e-17*M32 - 1.87469972832732e-33*M33 - 0.25*M34 - 3.06161699786838e-17*M41 + 1.87469972832732e-33*M42 - 2.29584502165847e-49*M43 - 3.06161699786838e-17*M44)\n",
      "Eq(1.53080849893419e-17, 1.53080849893419e-17*M11 - 9.37349864163661e-34*M12 + 1.14792251082923e-49*M13 + 1.53080849893419e-17*M14 - 9.37349864163661e-34*M21 + 5.73961255414617e-50*M22 - 7.02899814278107e-66*M23 - 9.37349864163661e-34*M24 - 1.53080849893419e-17*M31 + 9.37349864163661e-34*M32 - 1.14792251082923e-49*M33 - 1.53080849893419e-17*M34 - 1.87469972832732e-33*M41 + 1.14792251082923e-49*M42 - 1.40579962855621e-65*M43 - 1.87469972832732e-33*M44)\n",
      "Eq(-0.25, -0.25*M11 + 1.53080849893419e-17*M12 - 1.87469972832732e-33*M13 - 0.25*M14 + 1.53080849893419e-17*M21 - 9.37349864163661e-34*M22 + 1.14792251082923e-49*M23 + 1.53080849893419e-17*M24 + 0.25*M31 - 1.53080849893419e-17*M32 + 1.87469972832732e-33*M33 + 0.25*M34 + 3.06161699786838e-17*M41 - 1.87469972832732e-33*M42 + 2.29584502165847e-49*M43 + 3.06161699786838e-17*M44)\n",
      "True\n"
     ]
    }
   ],
   "source": [
    "# Define the combined symbolic matrix A = L3 * Q2 * M * Q1 * L1\n",
    "A_sym = L1_sym * Q3_sym * M * Q4_sym * L3_sym\n",
    "\n",
    "# Define equations for S1o = A * Si\n",
    "equations = []\n",
    "for i in range(4):\n",
    "    equation = Eq(SLM_sym[i], sum(A_sym[i, j] * Si_sym[j] for j in range(4)))\n",
    "    equations.append(equation)\n",
    "\n",
    "# Print each equation\n",
    "for eq in equations:\n",
    "    print(eq)"
   ]
  },
  {
   "cell_type": "markdown",
   "metadata": {},
   "source": [
    "#### Equations for LP"
   ]
  },
  {
   "cell_type": "code",
   "execution_count": 198,
   "metadata": {},
   "outputs": [
    {
     "name": "stdout",
     "output_type": "stream",
     "text": [
      "Eq(0.25, 0.25*M11 - 1.53080849893419e-17*M12 + 1.87469972832732e-33*M13 + 0.25*M14 - 1.53080849893419e-17*M21 + 9.37349864163661e-34*M22 - 1.14792251082923e-49*M23 - 1.53080849893419e-17*M24 + 0.25*M31 - 1.53080849893419e-17*M32 + 1.87469972832732e-33*M33 + 0.25*M34 + 3.06161699786838e-17*M41 - 1.87469972832732e-33*M42 + 2.29584502165847e-49*M43 + 3.06161699786838e-17*M44)\n",
      "Eq(1.53080849893419e-17, 1.53080849893419e-17*M11 - 9.37349864163661e-34*M12 + 1.14792251082923e-49*M13 + 1.53080849893419e-17*M14 - 9.37349864163661e-34*M21 + 5.73961255414617e-50*M22 - 7.02899814278107e-66*M23 - 9.37349864163661e-34*M24 + 1.53080849893419e-17*M31 - 9.37349864163661e-34*M32 + 1.14792251082923e-49*M33 + 1.53080849893419e-17*M34 + 1.87469972832732e-33*M41 - 1.14792251082923e-49*M42 + 1.40579962855621e-65*M43 + 1.87469972832732e-33*M44)\n",
      "Eq(0.25, 0.25*M11 - 1.53080849893419e-17*M12 + 1.87469972832732e-33*M13 + 0.25*M14 - 1.53080849893419e-17*M21 + 9.37349864163661e-34*M22 - 1.14792251082923e-49*M23 - 1.53080849893419e-17*M24 + 0.25*M31 - 1.53080849893419e-17*M32 + 1.87469972832732e-33*M33 + 0.25*M34 + 3.06161699786838e-17*M41 - 1.87469972832732e-33*M42 + 2.29584502165847e-49*M43 + 3.06161699786838e-17*M44)\n",
      "True\n"
     ]
    }
   ],
   "source": [
    "# Define the combined symbolic matrix A = L3 * Q2 * M * Q1 * L1\n",
    "A_sym = L3_sym * Q1_sym * M * Q4_sym * L3_sym\n",
    "\n",
    "# Define equations for S1o = A * Si\n",
    "equations = []\n",
    "for i in range(4):\n",
    "    equation = Eq(SLP_sym[i], sum(A_sym[i, j] * Si_sym[j] for j in range(4)))\n",
    "    equations.append(equation)\n",
    "\n",
    "# Print each equation\n",
    "for eq in equations:\n",
    "    print(eq)"
   ]
  },
  {
   "cell_type": "markdown",
   "metadata": {},
   "source": [
    "#### Equations for LH"
   ]
  },
  {
   "cell_type": "code",
   "execution_count": 199,
   "metadata": {},
   "outputs": [
    {
     "name": "stdout",
     "output_type": "stream",
     "text": [
      "Eq(0.25, 0.25*M11 - 1.53080849893419e-17*M12 + 1.87469972832732e-33*M13 + 0.25*M14 + 0.25*M21 - 1.53080849893419e-17*M22 + 1.87469972832732e-33*M23 + 0.25*M24 - 3.06161699786838e-17*M31 + 1.87469972832732e-33*M32 - 2.29584502165847e-49*M33 - 3.06161699786838e-17*M34 - 3.06161699786838e-17*M41 + 1.87469972832732e-33*M42 - 2.29584502165847e-49*M43 - 3.06161699786838e-17*M44)\n",
      "Eq(0.25, 0.25*M11 - 1.53080849893419e-17*M12 + 1.87469972832732e-33*M13 + 0.25*M14 + 0.25*M21 - 1.53080849893419e-17*M22 + 1.87469972832732e-33*M23 + 0.25*M24 - 3.06161699786838e-17*M31 + 1.87469972832732e-33*M32 - 2.29584502165847e-49*M33 - 3.06161699786838e-17*M34 - 3.06161699786838e-17*M41 + 1.87469972832732e-33*M42 - 2.29584502165847e-49*M43 - 3.06161699786838e-17*M44)\n",
      "True\n",
      "True\n"
     ]
    }
   ],
   "source": [
    "# Define the combined symbolic matrix A = L3 * Q2 * M * Q1 * L1\n",
    "A_sym = L2_sym * Q4_sym * M * Q4_sym * L3_sym\n",
    "\n",
    "# Define equations for S1o = A * Si\n",
    "equations = []\n",
    "for i in range(4):\n",
    "    equation = Eq(SLH_sym[i], sum(A_sym[i, j] * Si_sym[j] for j in range(4)))\n",
    "    equations.append(equation)\n",
    "\n",
    "# Print each equation\n",
    "for eq in equations:\n",
    "    print(eq)"
   ]
  },
  {
   "cell_type": "markdown",
   "metadata": {},
   "source": [
    "#### Equations for LV"
   ]
  },
  {
   "cell_type": "code",
   "execution_count": 200,
   "metadata": {},
   "outputs": [
    {
     "name": "stdout",
     "output_type": "stream",
     "text": [
      "Eq(0.25, 0.25*M11 - 1.53080849893419e-17*M12 + 1.87469972832732e-33*M13 + 0.25*M14 - 0.25*M21 + 1.53080849893419e-17*M22 - 1.87469972832732e-33*M23 - 0.25*M24 + 3.06161699786838e-17*M31 - 1.87469972832732e-33*M32 + 2.29584502165847e-49*M33 + 3.06161699786838e-17*M34)\n",
      "Eq(-0.25, -0.25*M11 + 1.53080849893419e-17*M12 - 1.87469972832732e-33*M13 - 0.25*M14 + 0.25*M21 - 1.53080849893419e-17*M22 + 1.87469972832732e-33*M23 + 0.25*M24 - 3.06161699786838e-17*M31 + 1.87469972832732e-33*M32 - 2.29584502165847e-49*M33 - 3.06161699786838e-17*M34)\n",
      "Eq(3.06161699786838e-17, 3.06161699786838e-17*M11 - 1.87469972832732e-33*M12 + 2.29584502165847e-49*M13 + 3.06161699786838e-17*M14 - 3.06161699786838e-17*M21 + 1.87469972832732e-33*M22 - 2.29584502165847e-49*M23 - 3.06161699786838e-17*M24 + 3.74939945665464e-33*M31 - 2.29584502165847e-49*M32 + 2.81159925711243e-65*M33 + 3.74939945665464e-33*M34)\n",
      "True\n"
     ]
    }
   ],
   "source": [
    "# Define the combined symbolic matrix A = L3 * Q2 * M * Q1 * L1\n",
    "A_sym = L4_sym * Q4_sym * M * Q4_sym * L3_sym\n",
    "\n",
    "# Define equations for S1o = A * Si\n",
    "equations = []\n",
    "for i in range(4):\n",
    "    equation = Eq(SLV_sym[i], sum(A_sym[i, j] * Si_sym[j] for j in range(4)))\n",
    "    equations.append(equation)\n",
    "\n",
    "# Print each equation\n",
    "for eq in equations:\n",
    "    print(eq)"
   ]
  },
  {
   "cell_type": "markdown",
   "metadata": {},
   "source": [
    "#### Equations for VL"
   ]
  },
  {
   "cell_type": "code",
   "execution_count": 201,
   "metadata": {},
   "outputs": [
    {
     "name": "stdout",
     "output_type": "stream",
     "text": [
      "Eq(0.25, 0.25*M11 - 0.25*M12 + 3.06161699786838e-17*M13 + 1.53080849893419e-17*M21 - 1.53080849893419e-17*M22 + 1.87469972832732e-33*M23 + 0.25*M41 - 0.25*M42 + 3.06161699786838e-17*M43)\n",
      "Eq(1.53080849893419e-17, 1.53080849893419e-17*M11 - 1.53080849893419e-17*M12 + 1.87469972832732e-33*M13 + 9.37349864163661e-34*M21 - 9.37349864163661e-34*M22 + 1.14792251082923e-49*M23 + 1.53080849893419e-17*M41 - 1.53080849893419e-17*M42 + 1.87469972832732e-33*M43)\n",
      "Eq(0.25, 0.25*M11 - 0.25*M12 + 3.06161699786838e-17*M13 + 1.53080849893419e-17*M21 - 1.53080849893419e-17*M22 + 1.87469972832732e-33*M23 + 0.25*M41 - 0.25*M42 + 3.06161699786838e-17*M43)\n",
      "True\n"
     ]
    }
   ],
   "source": [
    "# Define the combined symbolic matrix A = L3 * Q2 * M * Q1 * L1\n",
    "A_sym = L3_sym * Q2_sym * M * Q4_sym * L4_sym\n",
    "\n",
    "# Define equations for S1o = A * Si\n",
    "equations = []\n",
    "for i in range(4):\n",
    "    equation = Eq(SVL_sym[i], sum(A_sym[i, j] * Si_sym[j] for j in range(4)))\n",
    "    equations.append(equation)\n",
    "\n",
    "# Print each equation\n",
    "for eq in equations:\n",
    "    print(eq)"
   ]
  },
  {
   "cell_type": "markdown",
   "metadata": {},
   "source": [
    "#### Equations for VR"
   ]
  },
  {
   "cell_type": "code",
   "execution_count": 202,
   "metadata": {},
   "outputs": [
    {
     "name": "stdout",
     "output_type": "stream",
     "text": [
      "Eq(0.25, 0.25*M11 - 0.25*M12 + 3.06161699786838e-17*M13 + 1.53080849893419e-17*M21 - 1.53080849893419e-17*M22 + 1.87469972832732e-33*M23 - 0.25*M41 + 0.25*M42 - 3.06161699786838e-17*M43)\n",
      "Eq(1.53080849893419e-17, 1.53080849893419e-17*M11 - 1.53080849893419e-17*M12 + 1.87469972832732e-33*M13 + 9.37349864163661e-34*M21 - 9.37349864163661e-34*M22 + 1.14792251082923e-49*M23 - 1.53080849893419e-17*M41 + 1.53080849893419e-17*M42 - 1.87469972832732e-33*M43)\n",
      "Eq(-0.25, -0.25*M11 + 0.25*M12 - 3.06161699786838e-17*M13 - 1.53080849893419e-17*M21 + 1.53080849893419e-17*M22 - 1.87469972832732e-33*M23 + 0.25*M41 - 0.25*M42 + 3.06161699786838e-17*M43)\n",
      "True\n"
     ]
    }
   ],
   "source": [
    "# Define the combined symbolic matrix A = L3 * Q2 * M * Q1 * L1\n",
    "A_sym = L1_sym * Q2_sym * M * Q4_sym * L4_sym\n",
    "\n",
    "# Define equations for S1o = A * Si\n",
    "equations = []\n",
    "for i in range(4):\n",
    "    equation = Eq(SVR_sym[i], sum(A_sym[i, j] * Si_sym[j] for j in range(4)))\n",
    "    equations.append(equation)\n",
    "\n",
    "# Print each equation\n",
    "for eq in equations:\n",
    "    print(eq)"
   ]
  },
  {
   "cell_type": "markdown",
   "metadata": {},
   "source": [
    "#### Equations for VM"
   ]
  },
  {
   "cell_type": "code",
   "execution_count": 203,
   "metadata": {},
   "outputs": [
    {
     "name": "stdout",
     "output_type": "stream",
     "text": [
      "Eq(0.25, 0.25*M11 - 0.25*M12 + 3.06161699786838e-17*M13 - 1.53080849893419e-17*M21 + 1.53080849893419e-17*M22 - 1.87469972832732e-33*M23 - 0.25*M31 + 0.25*M32 - 3.06161699786838e-17*M33 - 3.06161699786838e-17*M41 + 3.06161699786838e-17*M42 - 3.74939945665464e-33*M43)\n",
      "Eq(1.53080849893419e-17, 1.53080849893419e-17*M11 - 1.53080849893419e-17*M12 + 1.87469972832732e-33*M13 - 9.37349864163661e-34*M21 + 9.37349864163661e-34*M22 - 1.14792251082923e-49*M23 - 1.53080849893419e-17*M31 + 1.53080849893419e-17*M32 - 1.87469972832732e-33*M33 - 1.87469972832732e-33*M41 + 1.87469972832732e-33*M42 - 2.29584502165847e-49*M43)\n",
      "Eq(-0.25, -0.25*M11 + 0.25*M12 - 3.06161699786838e-17*M13 + 1.53080849893419e-17*M21 - 1.53080849893419e-17*M22 + 1.87469972832732e-33*M23 + 0.25*M31 - 0.25*M32 + 3.06161699786838e-17*M33 + 3.06161699786838e-17*M41 - 3.06161699786838e-17*M42 + 3.74939945665464e-33*M43)\n",
      "True\n"
     ]
    }
   ],
   "source": [
    "# Define the combined symbolic matrix A = L3 * Q2 * M * Q1 * L1\n",
    "A_sym = L1_sym * Q3_sym * M * Q4_sym * L4_sym\n",
    "\n",
    "# Define equations for S1o = A * Si\n",
    "equations = []\n",
    "for i in range(4):\n",
    "    equation = Eq(SVM_sym[i], sum(A_sym[i, j] * Si_sym[j] for j in range(4)))\n",
    "    equations.append(equation)\n",
    "\n",
    "# Print each equation\n",
    "for eq in equations:\n",
    "    print(eq)"
   ]
  },
  {
   "cell_type": "markdown",
   "metadata": {},
   "source": [
    "#### Equations for VP"
   ]
  },
  {
   "cell_type": "code",
   "execution_count": 204,
   "metadata": {},
   "outputs": [
    {
     "name": "stdout",
     "output_type": "stream",
     "text": [
      "Eq(0.25, 0.25*M11 - 0.25*M12 + 3.06161699786838e-17*M13 - 2.81204959249098e-33*M21 + 2.81204959249098e-33*M22 - 3.4437675324877e-49*M23 + 4.59242549680257e-17*M31 - 4.59242549680257e-17*M32 + 5.62409918498197e-33*M33 - 0.25*M41 + 0.25*M42 - 3.06161699786838e-17*M43)\n",
      "Eq(-0.25, -0.25*M11 + 0.25*M12 - 3.06161699786838e-17*M13 + 2.81204959249098e-33*M21 - 2.81204959249098e-33*M22 + 3.4437675324877e-49*M23 - 4.59242549680257e-17*M31 + 4.59242549680257e-17*M32 - 5.62409918498197e-33*M33 + 0.25*M41 - 0.25*M42 + 3.06161699786838e-17*M43)\n",
      "Eq(3.06161699786838e-17, 3.06161699786838e-17*M11 - 3.06161699786838e-17*M12 + 3.74939945665464e-33*M13 - 3.4437675324877e-49*M21 + 3.4437675324877e-49*M22 - 4.21739888566864e-65*M23 + 5.62409918498197e-33*M31 - 5.62409918498197e-33*M32 + 6.8875350649754e-49*M33 - 3.06161699786838e-17*M41 + 3.06161699786838e-17*M42 - 3.74939945665464e-33*M43)\n",
      "True\n"
     ]
    }
   ],
   "source": [
    "# Define the combined symbolic matrix A = L3 * Q2 * M * Q1 * L1\n",
    "A_sym = L4_sym * Q1_sym * M * Q4_sym * L4_sym\n",
    "\n",
    "# Define equations for S1o = A * Si\n",
    "equations = []\n",
    "for i in range(4):\n",
    "    equation = Eq(SVP_sym[i], sum(A_sym[i, j] * Si_sym[j] for j in range(4)))\n",
    "    equations.append(equation)\n",
    "\n",
    "# Print each equation\n",
    "for eq in equations:\n",
    "    print(eq)"
   ]
  },
  {
   "cell_type": "markdown",
   "metadata": {},
   "source": [
    "#### Equations for VH"
   ]
  },
  {
   "cell_type": "code",
   "execution_count": 205,
   "metadata": {},
   "outputs": [
    {
     "name": "stdout",
     "output_type": "stream",
     "text": [
      "Eq(0.5, 0.25*M11 - 0.25*M12 + 3.06161699786838e-17*M13 + 0.25*M21 - 0.25*M22 + 3.06161699786838e-17*M23 - 3.06161699786838e-17*M31 + 3.06161699786838e-17*M32 - 3.74939945665464e-33*M33 - 3.06161699786838e-17*M41 + 3.06161699786838e-17*M42 - 3.74939945665464e-33*M43)\n",
      "Eq(0.5, 0.25*M11 - 0.25*M12 + 3.06161699786838e-17*M13 + 0.25*M21 - 0.25*M22 + 3.06161699786838e-17*M23 - 3.06161699786838e-17*M31 + 3.06161699786838e-17*M32 - 3.74939945665464e-33*M33 - 3.06161699786838e-17*M41 + 3.06161699786838e-17*M42 - 3.74939945665464e-33*M43)\n",
      "True\n",
      "True\n"
     ]
    }
   ],
   "source": [
    "# Define the combined symbolic matrix A = L3 * Q2 * M * Q1 * L1\n",
    "A_sym = L2_sym * Q4_sym * M * Q4_sym * L4_sym\n",
    "\n",
    "# Define equations for S1o = A * Si\n",
    "equations = []\n",
    "for i in range(4):\n",
    "    equation = Eq(SVH_sym[i], sum(A_sym[i, j] * Si_sym[j] for j in range(4)))\n",
    "    equations.append(equation)\n",
    "\n",
    "# Print each equation\n",
    "for eq in equations:\n",
    "    print(eq)"
   ]
  },
  {
   "cell_type": "markdown",
   "metadata": {},
   "source": [
    "#### Equations for VV"
   ]
  },
  {
   "cell_type": "code",
   "execution_count": 206,
   "metadata": {},
   "outputs": [
    {
     "name": "stdout",
     "output_type": "stream",
     "text": [
      "Eq(-3.74939945665464e-33, 0.25*M11 - 0.25*M12 + 3.06161699786838e-17*M13 - 0.25*M21 + 0.25*M22 - 3.06161699786838e-17*M23 + 3.06161699786838e-17*M31 - 3.06161699786838e-17*M32 + 3.74939945665464e-33*M33)\n",
      "Eq(3.74939945665464e-33, -0.25*M11 + 0.25*M12 - 3.06161699786838e-17*M13 + 0.25*M21 - 0.25*M22 + 3.06161699786838e-17*M23 - 3.06161699786838e-17*M31 + 3.06161699786838e-17*M32 - 3.74939945665464e-33*M33)\n",
      "Eq(-4.59169004331693e-49, 3.06161699786838e-17*M11 - 3.06161699786838e-17*M12 + 3.74939945665464e-33*M13 - 3.06161699786838e-17*M21 + 3.06161699786838e-17*M22 - 3.74939945665464e-33*M23 + 3.74939945665464e-33*M31 - 3.74939945665464e-33*M32 + 4.59169004331693e-49*M33)\n",
      "True\n"
     ]
    }
   ],
   "source": [
    "# Define the combined symbolic matrix A = L3 * Q2 * M * Q1 * L1\n",
    "A_sym = L4_sym * Q4_sym * M * Q4_sym * L4_sym\n",
    "\n",
    "# Define equations for S1o = A * Si\n",
    "equations = []\n",
    "for i in range(4):\n",
    "    equation = Eq(SVV_sym[i], sum(A_sym[i, j] * Si_sym[j] for j in range(4)))\n",
    "    equations.append(equation)\n",
    "\n",
    "# Print each equation\n",
    "for eq in equations:\n",
    "    print(eq)"
   ]
  }
 ],
 "metadata": {
  "kernelspec": {
   "display_name": "Python 3",
   "language": "python",
   "name": "python3"
  },
  "language_info": {
   "codemirror_mode": {
    "name": "ipython",
    "version": 3
   },
   "file_extension": ".py",
   "mimetype": "text/x-python",
   "name": "python",
   "nbconvert_exporter": "python",
   "pygments_lexer": "ipython3",
   "version": "3.10.10"
  }
 },
 "nbformat": 4,
 "nbformat_minor": 2
}
